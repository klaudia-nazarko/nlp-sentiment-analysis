{
 "cells": [
  {
   "cell_type": "code",
   "execution_count": 1,
   "metadata": {},
   "outputs": [
    {
     "name": "stderr",
     "output_type": "stream",
     "text": [
      "C:\\Users\\klaud\\Anaconda3\\envs\\fastai-nlp\\lib\\site-packages\\sklearn\\utils\\deprecation.py:143: FutureWarning: The sklearn.feature_extraction.stop_words module is  deprecated in version 0.22 and will be removed in version 0.24. The corresponding classes / functions should instead be imported from sklearn.feature_extraction.text. Anything that cannot be imported from sklearn.feature_extraction.text is now part of the private API.\n",
      "  warnings.warn(message, FutureWarning)\n"
     ]
    }
   ],
   "source": [
    "import numpy as np\n",
    "import pandas as pd\n",
    "from sklearn.feature_extraction.text import CountVectorizer, TfidfVectorizer\n",
    "from sklearn.linear_model import SGDClassifier\n",
    "from sklearn.model_selection import cross_validate\n",
    "\n",
    "import functions as f"
   ]
  },
  {
   "cell_type": "code",
   "execution_count": 3,
   "metadata": {},
   "outputs": [],
   "source": [
    "df = pd.read_csv('data/reviews_toys_games_100k.csv', dtype={'review': np.str_, 'sentiment': int})\n",
    "\n",
    "reviews = df['review'].astype('U').values\n",
    "y = df['sentiment'].to_list()"
   ]
  },
  {
   "cell_type": "markdown",
   "metadata": {},
   "source": [
    "1. uni and bi grams + stop_words excluded\n",
    "2. uni and bi grams + stop words included\n",
    "3. uni, bi and trigrams + stop words included"
   ]
  },
  {
   "cell_type": "code",
   "execution_count": 4,
   "metadata": {},
   "outputs": [],
   "source": [
    "M_bow_1 = CountVectorizer(stop_words='english', ngram_range=(1,2), max_features=6000).fit_transform(reviews)\n",
    "M_bow_2 = CountVectorizer(ngram_range=(1,2), max_features=6000).fit_transform(reviews)\n",
    "M_bow_3 = CountVectorizer(ngram_range=(1,3), max_features=6000).fit_transform(reviews)\n",
    "\n",
    "M_tfidf_1 = TfidfVectorizer(stop_words='english', ngram_range=(1,2), max_features=6000).fit_transform(reviews)\n",
    "M_tfidf_2 = TfidfVectorizer(ngram_range=(1,2), max_features=6000).fit_transform(reviews)\n",
    "M_tfidf_3 = TfidfVectorizer(ngram_range=(1,3), max_features=6000).fit_transform(reviews)"
   ]
  },
  {
   "cell_type": "code",
   "execution_count": 5,
   "metadata": {},
   "outputs": [],
   "source": [
    "embeddings_names = ['M_bow_1', 'M_bow_2', 'M_bow_3', 'M_tfidf_1', 'M_tfidf_2', 'M_tfidf_3']\n",
    "embeddings = [M_bow_1, M_bow_2, M_bow_3, M_tfidf_1, M_tfidf_2, M_tfidf_3]\n",
    "results_names = ['test_acc', 'precision', 'recall', 'f1']"
   ]
  },
  {
   "cell_type": "code",
   "execution_count": 6,
   "metadata": {},
   "outputs": [
    {
     "data": {
      "text/html": [
       "<div>\n",
       "<style scoped>\n",
       "    .dataframe tbody tr th:only-of-type {\n",
       "        vertical-align: middle;\n",
       "    }\n",
       "\n",
       "    .dataframe tbody tr th {\n",
       "        vertical-align: top;\n",
       "    }\n",
       "\n",
       "    .dataframe thead th {\n",
       "        text-align: right;\n",
       "    }\n",
       "</style>\n",
       "<table border=\"1\" class=\"dataframe\">\n",
       "  <thead>\n",
       "    <tr style=\"text-align: right;\">\n",
       "      <th></th>\n",
       "      <th>test_acc</th>\n",
       "      <th>precision</th>\n",
       "      <th>recall</th>\n",
       "      <th>f1</th>\n",
       "    </tr>\n",
       "  </thead>\n",
       "  <tbody>\n",
       "    <tr>\n",
       "      <th>M_bow_1</th>\n",
       "      <td>0.95922</td>\n",
       "      <td>0.966973</td>\n",
       "      <td>0.989211</td>\n",
       "      <td>0.977965</td>\n",
       "    </tr>\n",
       "    <tr>\n",
       "      <th>M_bow_2</th>\n",
       "      <td>0.96663</td>\n",
       "      <td>0.976483</td>\n",
       "      <td>0.987309</td>\n",
       "      <td>0.981860</td>\n",
       "    </tr>\n",
       "    <tr>\n",
       "      <th>M_bow_3</th>\n",
       "      <td>0.96599</td>\n",
       "      <td>0.976743</td>\n",
       "      <td>0.986314</td>\n",
       "      <td>0.981502</td>\n",
       "    </tr>\n",
       "    <tr>\n",
       "      <th>M_tfidf_1</th>\n",
       "      <td>0.95067</td>\n",
       "      <td>0.951147</td>\n",
       "      <td>0.997300</td>\n",
       "      <td>0.973677</td>\n",
       "    </tr>\n",
       "    <tr>\n",
       "      <th>M_tfidf_2</th>\n",
       "      <td>0.95853</td>\n",
       "      <td>0.959045</td>\n",
       "      <td>0.997256</td>\n",
       "      <td>0.977777</td>\n",
       "    </tr>\n",
       "    <tr>\n",
       "      <th>M_tfidf_3</th>\n",
       "      <td>0.95816</td>\n",
       "      <td>0.958817</td>\n",
       "      <td>0.997092</td>\n",
       "      <td>0.977580</td>\n",
       "    </tr>\n",
       "  </tbody>\n",
       "</table>\n",
       "</div>"
      ],
      "text/plain": [
       "           test_acc  precision    recall        f1\n",
       "M_bow_1     0.95922   0.966973  0.989211  0.977965\n",
       "M_bow_2     0.96663   0.976483  0.987309  0.981860\n",
       "M_bow_3     0.96599   0.976743  0.986314  0.981502\n",
       "M_tfidf_1   0.95067   0.951147  0.997300  0.973677\n",
       "M_tfidf_2   0.95853   0.959045  0.997256  0.977777\n",
       "M_tfidf_3   0.95816   0.958817  0.997092  0.977580"
      ]
     },
     "execution_count": 6,
     "metadata": {},
     "output_type": "execute_result"
    }
   ],
   "source": [
    "sgd = SGDClassifier(random_state=9, n_jobs=-1)\n",
    "\n",
    "sgd_cv = f.model_cv(sgd, embeddings, y)\n",
    "f.df_model_cv(sgd_cv, embeddings_names, results_names)"
   ]
  },
  {
   "cell_type": "markdown",
   "metadata": {},
   "source": [
    "### SMOTE"
   ]
  },
  {
   "cell_type": "code",
   "execution_count": 54,
   "metadata": {},
   "outputs": [],
   "source": [
    "from imblearn.over_sampling import SMOTE\n",
    "from imblearn.pipeline import Pipeline, make_pipeline"
   ]
  },
  {
   "cell_type": "code",
   "execution_count": 55,
   "metadata": {},
   "outputs": [
    {
     "data": {
      "text/html": [
       "<div>\n",
       "<style scoped>\n",
       "    .dataframe tbody tr th:only-of-type {\n",
       "        vertical-align: middle;\n",
       "    }\n",
       "\n",
       "    .dataframe tbody tr th {\n",
       "        vertical-align: top;\n",
       "    }\n",
       "\n",
       "    .dataframe thead th {\n",
       "        text-align: right;\n",
       "    }\n",
       "</style>\n",
       "<table border=\"1\" class=\"dataframe\">\n",
       "  <thead>\n",
       "    <tr style=\"text-align: right;\">\n",
       "      <th></th>\n",
       "      <th>test_acc</th>\n",
       "      <th>precision</th>\n",
       "      <th>recall</th>\n",
       "      <th>f1</th>\n",
       "    </tr>\n",
       "  </thead>\n",
       "  <tbody>\n",
       "    <tr>\n",
       "      <th>M_bow_1</th>\n",
       "      <td>0.89982</td>\n",
       "      <td>0.979435</td>\n",
       "      <td>0.909587</td>\n",
       "      <td>0.943218</td>\n",
       "    </tr>\n",
       "    <tr>\n",
       "      <th>M_bow_1</th>\n",
       "      <td>0.93632</td>\n",
       "      <td>0.981705</td>\n",
       "      <td>0.948098</td>\n",
       "      <td>0.964578</td>\n",
       "    </tr>\n",
       "    <tr>\n",
       "      <th>M_bow_1</th>\n",
       "      <td>0.93654</td>\n",
       "      <td>0.981555</td>\n",
       "      <td>0.948459</td>\n",
       "      <td>0.964718</td>\n",
       "    </tr>\n",
       "    <tr>\n",
       "      <th>M_tfidf_1</th>\n",
       "      <td>0.91021</td>\n",
       "      <td>0.988017</td>\n",
       "      <td>0.912921</td>\n",
       "      <td>0.948983</td>\n",
       "    </tr>\n",
       "    <tr>\n",
       "      <th>M_tfidf_2</th>\n",
       "      <td>0.92335</td>\n",
       "      <td>0.991151</td>\n",
       "      <td>0.924464</td>\n",
       "      <td>0.956647</td>\n",
       "    </tr>\n",
       "    <tr>\n",
       "      <th>M_tfidf_3</th>\n",
       "      <td>0.92167</td>\n",
       "      <td>0.991030</td>\n",
       "      <td>0.922726</td>\n",
       "      <td>0.955659</td>\n",
       "    </tr>\n",
       "  </tbody>\n",
       "</table>\n",
       "</div>"
      ],
      "text/plain": [
       "           test_acc  precision    recall        f1\n",
       "M_bow_1     0.89982   0.979435  0.909587  0.943218\n",
       "M_bow_1     0.93632   0.981705  0.948098  0.964578\n",
       "M_bow_1     0.93654   0.981555  0.948459  0.964718\n",
       "M_tfidf_1   0.91021   0.988017  0.912921  0.948983\n",
       "M_tfidf_2   0.92335   0.991151  0.924464  0.956647\n",
       "M_tfidf_3   0.92167   0.991030  0.922726  0.955659"
      ]
     },
     "execution_count": 55,
     "metadata": {},
     "output_type": "execute_result"
    }
   ],
   "source": [
    "imba_pipeline = make_pipeline(SMOTE(random_state=9),\n",
    "                              SGDClassifier(random_state=9, n_jobs=-1))\n",
    "\n",
    "pip_cv = f.model_cv(imba_pipeline, embeddings, y)\n",
    "f.df_model_cv(pip_cv, embeddings_names, results_names)"
   ]
  },
  {
   "cell_type": "markdown",
   "metadata": {},
   "source": [
    "### Grid Search"
   ]
  },
  {
   "cell_type": "code",
   "execution_count": 7,
   "metadata": {},
   "outputs": [],
   "source": [
    "from sklearn.model_selection import GridSearchCV"
   ]
  },
  {
   "cell_type": "code",
   "execution_count": 11,
   "metadata": {},
   "outputs": [
    {
     "data": {
      "text/plain": [
       "GridSearchCV(estimator=SGDClassifier(n_jobs=-1, random_state=9),\n",
       "             param_grid={'alpha': (0.0001, 0.0005), 'loss': ('hinge', 'log'),\n",
       "                         'max_iter': [800, 1000, 1200],\n",
       "                         'penalty': ('l1', 'l2')})"
      ]
     },
     "execution_count": 11,
     "metadata": {},
     "output_type": "execute_result"
    }
   ],
   "source": [
    "parameters = {\n",
    "    'loss': ('hinge', 'log'),\n",
    "    'penalty': ('l1', 'l2'),\n",
    "    'alpha':(0.0001, 0.0005), \n",
    "    'max_iter':[800, 1000, 1200]}\n",
    "\n",
    "sgd = SGDClassifier(random_state=9, n_jobs=-1)\n",
    "clf = GridSearchCV(sgd, parameters)\n",
    "clf.fit(M_bow_2, y)"
   ]
  },
  {
   "cell_type": "code",
   "execution_count": 12,
   "metadata": {},
   "outputs": [
    {
     "data": {
      "text/plain": [
       "{'alpha': 0.0001, 'loss': 'hinge', 'max_iter': 800, 'penalty': 'l2'}"
      ]
     },
     "execution_count": 12,
     "metadata": {},
     "output_type": "execute_result"
    }
   ],
   "source": [
    "clf.best_params_"
   ]
  },
  {
   "cell_type": "code",
   "execution_count": 18,
   "metadata": {},
   "outputs": [
    {
     "data": {
      "text/html": [
       "<div>\n",
       "<style scoped>\n",
       "    .dataframe tbody tr th:only-of-type {\n",
       "        vertical-align: middle;\n",
       "    }\n",
       "\n",
       "    .dataframe tbody tr th {\n",
       "        vertical-align: top;\n",
       "    }\n",
       "\n",
       "    .dataframe thead th {\n",
       "        text-align: right;\n",
       "    }\n",
       "</style>\n",
       "<table border=\"1\" class=\"dataframe\">\n",
       "  <thead>\n",
       "    <tr style=\"text-align: right;\">\n",
       "      <th></th>\n",
       "      <th>test_acc</th>\n",
       "      <th>precision</th>\n",
       "      <th>recall</th>\n",
       "      <th>f1</th>\n",
       "    </tr>\n",
       "  </thead>\n",
       "  <tbody>\n",
       "    <tr>\n",
       "      <th>M_bow_2</th>\n",
       "      <td>0.96663</td>\n",
       "      <td>0.976483</td>\n",
       "      <td>0.987309</td>\n",
       "      <td>0.98186</td>\n",
       "    </tr>\n",
       "  </tbody>\n",
       "</table>\n",
       "</div>"
      ],
      "text/plain": [
       "         test_acc  precision    recall       f1\n",
       "M_bow_2   0.96663   0.976483  0.987309  0.98186"
      ]
     },
     "execution_count": 18,
     "metadata": {},
     "output_type": "execute_result"
    }
   ],
   "source": [
    "sgd_best_params = SGDClassifier(max_iter=800, random_state=9, n_jobs=-1)\n",
    "sgd_best_cv = model_cv(sgd, [M_bow_2], y)\n",
    "df_model_cv(sgd_best_cv, ['M_bow_2'], results_names)"
   ]
  },
  {
   "cell_type": "code",
   "execution_count": null,
   "metadata": {},
   "outputs": [],
   "source": []
  }
 ],
 "metadata": {
  "kernelspec": {
   "display_name": "fastai-nlp",
   "language": "python",
   "name": "fastai-nlp"
  },
  "language_info": {
   "codemirror_mode": {
    "name": "ipython",
    "version": 3
   },
   "file_extension": ".py",
   "mimetype": "text/x-python",
   "name": "python",
   "nbconvert_exporter": "python",
   "pygments_lexer": "ipython3",
   "version": "3.7.6"
  }
 },
 "nbformat": 4,
 "nbformat_minor": 4
}
