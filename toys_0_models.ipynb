{
 "cells": [
  {
   "cell_type": "code",
   "execution_count": 1,
   "metadata": {},
   "outputs": [
    {
     "name": "stderr",
     "output_type": "stream",
     "text": [
      "C:\\Users\\klaud\\Anaconda3\\envs\\fastai-nlp\\lib\\site-packages\\sklearn\\utils\\deprecation.py:144: FutureWarning: The sklearn.feature_extraction.stop_words module is  deprecated in version 0.22 and will be removed in version 0.24. The corresponding classes / functions should instead be imported from sklearn.feature_extraction.text. Anything that cannot be imported from sklearn.feature_extraction.text is now part of the private API.\n",
      "  warnings.warn(message, FutureWarning)\n"
     ]
    }
   ],
   "source": [
    "import numpy as np\n",
    "import pandas as pd\n",
    "import pickle\n",
    "\n",
    "from sklearn.model_selection import cross_validate\n",
    "\n",
    "import functions as f"
   ]
  },
  {
   "cell_type": "code",
   "execution_count": 88,
   "metadata": {},
   "outputs": [],
   "source": [
    "def model_cv(model, embeddings, y):\n",
    "    results = []\n",
    "    for i in range(len(embeddings)):\n",
    "        cv_results = cross_validate(model,\n",
    "                                    embeddings[i],\n",
    "                                    y,\n",
    "                                    cv=3,\n",
    "                                    scoring=('accuracy', 'precision', 'recall', 'f1', 'roc_auc'),\n",
    "                                    return_train_score=True)\n",
    "        results.append([np.mean(cv_results['train_accuracy']),\n",
    "                        np.mean(cv_results['test_accuracy']),\n",
    "                        np.mean(cv_results['test_precision']),\n",
    "                        np.mean(cv_results['test_recall']),\n",
    "                        np.mean(cv_results['test_f1']),\n",
    "                        np.mean(cv_results['test_roc_auc'])])\n",
    "    return np.stack(results)\n",
    "\n",
    "def df_model_cv(model_cv, embeddings_names, results_names):\n",
    "    return pd.DataFrame(model_cv, index=embeddings_names, columns=results_names)"
   ]
  },
  {
   "cell_type": "markdown",
   "metadata": {},
   "source": [
    "## CODE"
   ]
  },
  {
   "cell_type": "code",
   "execution_count": 62,
   "metadata": {},
   "outputs": [],
   "source": [
    "with open('data/M_bow_10k.pickle', 'rb') as handle:\n",
    "    M_bow = pickle.load(handle)\n",
    "    \n",
    "with open('data/M_tfidf_10k.pickle', 'rb') as handle:\n",
    "    M_tfidf = pickle.load(handle)\n",
    "    \n",
    "with open('data/M_svd_10k.pickle', 'rb') as handle:\n",
    "    M_svd = pickle.load(handle)\n",
    "    \n",
    "with open('data/M_nmf_10k.pickle', 'rb') as handle:\n",
    "    M_nmf = pickle.load(handle)\n",
    "    \n",
    "with open('data/M_word2vec_10k.pickle', 'rb') as handle:\n",
    "    M_word2vec = pickle.load(handle)\n",
    "    \n",
    "with open('data/sentiment_10k.pickle', 'rb') as handle:\n",
    "    y = pickle.load(handle)"
   ]
  },
  {
   "cell_type": "markdown",
   "metadata": {},
   "source": [
    "## Models"
   ]
  },
  {
   "cell_type": "code",
   "execution_count": 71,
   "metadata": {},
   "outputs": [],
   "source": [
    "from sklearn.naive_bayes import MultinomialNB\n",
    "from sklearn.linear_model import SGDClassifier, LogisticRegression\n",
    "from sklearn.svm import SVC\n",
    "from sklearn.pipeline import make_pipeline\n",
    "from sklearn.preprocessing import StandardScaler\n",
    "from sklearn.preprocessing import Normalizer\n",
    "from sklearn.preprocessing import MinMaxScaler, MaxAbsScaler"
   ]
  },
  {
   "cell_type": "code",
   "execution_count": 81,
   "metadata": {},
   "outputs": [],
   "source": [
    "scaler = MinMaxScaler()\n",
    "M_svd_positive = scaler.fit_transform(M_svd)\n",
    "M_word2vec_positive = scaler.fit_transform(M_word2vec)"
   ]
  },
  {
   "cell_type": "code",
   "execution_count": 82,
   "metadata": {},
   "outputs": [
    {
     "name": "stdout",
     "output_type": "stream",
     "text": [
      "Baseline accuracy:  0.9356\n"
     ]
    }
   ],
   "source": [
    "baseline = sum(y)/len(y)\n",
    "print('Baseline accuracy: ', baseline)"
   ]
  },
  {
   "cell_type": "code",
   "execution_count": 89,
   "metadata": {},
   "outputs": [],
   "source": [
    "embeddings_names = ['BOW', 'TFIDF', 'SVD', 'NMF', 'Word2Vec']\n",
    "embeddings = [M_bow, M_tfidf, M_svd, M_nmf, M_word2vec]\n",
    "embeddings_positive = [M_bow, M_tfidf, M_svd_positive, M_nmf, M_word2vec_positive]\n",
    "results_names = ['train_acc', 'test_acc', 'precision', 'recall', 'f1', 'roc_auc']"
   ]
  },
  {
   "cell_type": "markdown",
   "metadata": {},
   "source": [
    "### Multinomial Naive Bayes"
   ]
  },
  {
   "cell_type": "code",
   "execution_count": 90,
   "metadata": {},
   "outputs": [
    {
     "data": {
      "text/html": [
       "<div>\n",
       "<style scoped>\n",
       "    .dataframe tbody tr th:only-of-type {\n",
       "        vertical-align: middle;\n",
       "    }\n",
       "\n",
       "    .dataframe tbody tr th {\n",
       "        vertical-align: top;\n",
       "    }\n",
       "\n",
       "    .dataframe thead th {\n",
       "        text-align: right;\n",
       "    }\n",
       "</style>\n",
       "<table border=\"1\" class=\"dataframe\">\n",
       "  <thead>\n",
       "    <tr style=\"text-align: right;\">\n",
       "      <th></th>\n",
       "      <th>train_acc</th>\n",
       "      <th>test_acc</th>\n",
       "      <th>precision</th>\n",
       "      <th>recall</th>\n",
       "      <th>f1</th>\n",
       "      <th>roc_auc</th>\n",
       "    </tr>\n",
       "  </thead>\n",
       "  <tbody>\n",
       "    <tr>\n",
       "      <th>BOW</th>\n",
       "      <td>0.96635</td>\n",
       "      <td>0.9031</td>\n",
       "      <td>0.960989</td>\n",
       "      <td>0.934479</td>\n",
       "      <td>0.947453</td>\n",
       "      <td>0.801898</td>\n",
       "    </tr>\n",
       "    <tr>\n",
       "      <th>TFIDF</th>\n",
       "      <td>0.93560</td>\n",
       "      <td>0.9356</td>\n",
       "      <td>0.935600</td>\n",
       "      <td>1.000000</td>\n",
       "      <td>0.966729</td>\n",
       "      <td>0.758994</td>\n",
       "    </tr>\n",
       "    <tr>\n",
       "      <th>SVD</th>\n",
       "      <td>0.93560</td>\n",
       "      <td>0.9356</td>\n",
       "      <td>0.935600</td>\n",
       "      <td>1.000000</td>\n",
       "      <td>0.966729</td>\n",
       "      <td>0.742737</td>\n",
       "    </tr>\n",
       "    <tr>\n",
       "      <th>NMF</th>\n",
       "      <td>0.93225</td>\n",
       "      <td>0.9297</td>\n",
       "      <td>0.935481</td>\n",
       "      <td>0.993373</td>\n",
       "      <td>0.963554</td>\n",
       "      <td>0.743876</td>\n",
       "    </tr>\n",
       "    <tr>\n",
       "      <th>Word2Vec</th>\n",
       "      <td>0.93560</td>\n",
       "      <td>0.9356</td>\n",
       "      <td>0.935600</td>\n",
       "      <td>1.000000</td>\n",
       "      <td>0.966729</td>\n",
       "      <td>0.859119</td>\n",
       "    </tr>\n",
       "  </tbody>\n",
       "</table>\n",
       "</div>"
      ],
      "text/plain": [
       "          train_acc  test_acc  precision    recall        f1   roc_auc\n",
       "BOW         0.96635    0.9031   0.960989  0.934479  0.947453  0.801898\n",
       "TFIDF       0.93560    0.9356   0.935600  1.000000  0.966729  0.758994\n",
       "SVD         0.93560    0.9356   0.935600  1.000000  0.966729  0.742737\n",
       "NMF         0.93225    0.9297   0.935481  0.993373  0.963554  0.743876\n",
       "Word2Vec    0.93560    0.9356   0.935600  1.000000  0.966729  0.859119"
      ]
     },
     "execution_count": 90,
     "metadata": {},
     "output_type": "execute_result"
    }
   ],
   "source": [
    "naive = MultinomialNB()\n",
    "\n",
    "naive_cv = model_cv(naive, embeddings_positive, y)\n",
    "df_model_cv(naive_cv, embeddings_names, results_names)"
   ]
  },
  {
   "cell_type": "code",
   "execution_count": 91,
   "metadata": {},
   "outputs": [
    {
     "data": {
      "text/html": [
       "<div>\n",
       "<style scoped>\n",
       "    .dataframe tbody tr th:only-of-type {\n",
       "        vertical-align: middle;\n",
       "    }\n",
       "\n",
       "    .dataframe tbody tr th {\n",
       "        vertical-align: top;\n",
       "    }\n",
       "\n",
       "    .dataframe thead th {\n",
       "        text-align: right;\n",
       "    }\n",
       "</style>\n",
       "<table border=\"1\" class=\"dataframe\">\n",
       "  <thead>\n",
       "    <tr style=\"text-align: right;\">\n",
       "      <th></th>\n",
       "      <th>train_acc</th>\n",
       "      <th>test_acc</th>\n",
       "      <th>precision</th>\n",
       "      <th>recall</th>\n",
       "      <th>f1</th>\n",
       "      <th>roc_auc</th>\n",
       "    </tr>\n",
       "  </thead>\n",
       "  <tbody>\n",
       "    <tr>\n",
       "      <th>BOW</th>\n",
       "      <td>0.995600</td>\n",
       "      <td>0.9390</td>\n",
       "      <td>0.963256</td>\n",
       "      <td>0.971889</td>\n",
       "      <td>0.967547</td>\n",
       "      <td>0.855695</td>\n",
       "    </tr>\n",
       "    <tr>\n",
       "      <th>TFIDF</th>\n",
       "      <td>0.989550</td>\n",
       "      <td>0.9514</td>\n",
       "      <td>0.956574</td>\n",
       "      <td>0.993159</td>\n",
       "      <td>0.974517</td>\n",
       "      <td>0.921458</td>\n",
       "    </tr>\n",
       "    <tr>\n",
       "      <th>SVD</th>\n",
       "      <td>0.917451</td>\n",
       "      <td>0.9192</td>\n",
       "      <td>0.946017</td>\n",
       "      <td>0.969004</td>\n",
       "      <td>0.957329</td>\n",
       "      <td>0.783898</td>\n",
       "    </tr>\n",
       "    <tr>\n",
       "      <th>NMF</th>\n",
       "      <td>0.935500</td>\n",
       "      <td>0.9355</td>\n",
       "      <td>0.935594</td>\n",
       "      <td>0.999893</td>\n",
       "      <td>0.966675</td>\n",
       "      <td>0.754858</td>\n",
       "    </tr>\n",
       "    <tr>\n",
       "      <th>Word2Vec</th>\n",
       "      <td>0.951350</td>\n",
       "      <td>0.9427</td>\n",
       "      <td>0.951852</td>\n",
       "      <td>0.988777</td>\n",
       "      <td>0.969963</td>\n",
       "      <td>0.899941</td>\n",
       "    </tr>\n",
       "  </tbody>\n",
       "</table>\n",
       "</div>"
      ],
      "text/plain": [
       "          train_acc  test_acc  precision    recall        f1   roc_auc\n",
       "BOW        0.995600    0.9390   0.963256  0.971889  0.967547  0.855695\n",
       "TFIDF      0.989550    0.9514   0.956574  0.993159  0.974517  0.921458\n",
       "SVD        0.917451    0.9192   0.946017  0.969004  0.957329  0.783898\n",
       "NMF        0.935500    0.9355   0.935594  0.999893  0.966675  0.754858\n",
       "Word2Vec   0.951350    0.9427   0.951852  0.988777  0.969963  0.899941"
      ]
     },
     "execution_count": 91,
     "metadata": {},
     "output_type": "execute_result"
    }
   ],
   "source": [
    "sgd = SGDClassifier(random_state=9)\n",
    "\n",
    "sgd_cv = model_cv(sgd, embeddings, y)\n",
    "df_model_cv(sgd_cv, embeddings_names, results_names)"
   ]
  },
  {
   "cell_type": "code",
   "execution_count": 92,
   "metadata": {},
   "outputs": [
    {
     "data": {
      "text/html": [
       "<div>\n",
       "<style scoped>\n",
       "    .dataframe tbody tr th:only-of-type {\n",
       "        vertical-align: middle;\n",
       "    }\n",
       "\n",
       "    .dataframe tbody tr th {\n",
       "        vertical-align: top;\n",
       "    }\n",
       "\n",
       "    .dataframe thead th {\n",
       "        text-align: right;\n",
       "    }\n",
       "</style>\n",
       "<table border=\"1\" class=\"dataframe\">\n",
       "  <thead>\n",
       "    <tr style=\"text-align: right;\">\n",
       "      <th></th>\n",
       "      <th>train_acc</th>\n",
       "      <th>test_acc</th>\n",
       "      <th>precision</th>\n",
       "      <th>recall</th>\n",
       "      <th>f1</th>\n",
       "      <th>roc_auc</th>\n",
       "    </tr>\n",
       "  </thead>\n",
       "  <tbody>\n",
       "    <tr>\n",
       "      <th>BOW</th>\n",
       "      <td>0.99050</td>\n",
       "      <td>0.944800</td>\n",
       "      <td>0.961173</td>\n",
       "      <td>0.980653</td>\n",
       "      <td>0.970791</td>\n",
       "      <td>0.871540</td>\n",
       "    </tr>\n",
       "    <tr>\n",
       "      <th>TFIDF</th>\n",
       "      <td>0.95625</td>\n",
       "      <td>0.943600</td>\n",
       "      <td>0.944222</td>\n",
       "      <td>0.998717</td>\n",
       "      <td>0.970705</td>\n",
       "      <td>0.928908</td>\n",
       "    </tr>\n",
       "    <tr>\n",
       "      <th>SVD</th>\n",
       "      <td>0.92525</td>\n",
       "      <td>0.925701</td>\n",
       "      <td>0.940665</td>\n",
       "      <td>0.982579</td>\n",
       "      <td>0.961145</td>\n",
       "      <td>0.776103</td>\n",
       "    </tr>\n",
       "    <tr>\n",
       "      <th>NMF</th>\n",
       "      <td>0.93555</td>\n",
       "      <td>0.935400</td>\n",
       "      <td>0.935674</td>\n",
       "      <td>0.999679</td>\n",
       "      <td>0.966618</td>\n",
       "      <td>0.777218</td>\n",
       "    </tr>\n",
       "    <tr>\n",
       "      <th>Word2Vec</th>\n",
       "      <td>0.95270</td>\n",
       "      <td>0.943700</td>\n",
       "      <td>0.955570</td>\n",
       "      <td>0.985677</td>\n",
       "      <td>0.970380</td>\n",
       "      <td>0.905494</td>\n",
       "    </tr>\n",
       "  </tbody>\n",
       "</table>\n",
       "</div>"
      ],
      "text/plain": [
       "          train_acc  test_acc  precision    recall        f1   roc_auc\n",
       "BOW         0.99050  0.944800   0.961173  0.980653  0.970791  0.871540\n",
       "TFIDF       0.95625  0.943600   0.944222  0.998717  0.970705  0.928908\n",
       "SVD         0.92525  0.925701   0.940665  0.982579  0.961145  0.776103\n",
       "NMF         0.93555  0.935400   0.935674  0.999679  0.966618  0.777218\n",
       "Word2Vec    0.95270  0.943700   0.955570  0.985677  0.970380  0.905494"
      ]
     },
     "execution_count": 92,
     "metadata": {},
     "output_type": "execute_result"
    }
   ],
   "source": [
    "sgd_log = SGDClassifier(loss='log', penalty='elasticnet', random_state=9)\n",
    "\n",
    "sgd_log_cv = model_cv(sgd_log, embeddings, y)\n",
    "df_model_cv(sgd_log_cv, embeddings_names, results_names)"
   ]
  },
  {
   "cell_type": "code",
   "execution_count": 93,
   "metadata": {},
   "outputs": [
    {
     "data": {
      "text/html": [
       "<div>\n",
       "<style scoped>\n",
       "    .dataframe tbody tr th:only-of-type {\n",
       "        vertical-align: middle;\n",
       "    }\n",
       "\n",
       "    .dataframe tbody tr th {\n",
       "        vertical-align: top;\n",
       "    }\n",
       "\n",
       "    .dataframe thead th {\n",
       "        text-align: right;\n",
       "    }\n",
       "</style>\n",
       "<table border=\"1\" class=\"dataframe\">\n",
       "  <thead>\n",
       "    <tr style=\"text-align: right;\">\n",
       "      <th></th>\n",
       "      <th>train_acc</th>\n",
       "      <th>test_acc</th>\n",
       "      <th>precision</th>\n",
       "      <th>recall</th>\n",
       "      <th>f1</th>\n",
       "      <th>roc_auc</th>\n",
       "    </tr>\n",
       "  </thead>\n",
       "  <tbody>\n",
       "    <tr>\n",
       "      <th>BOW</th>\n",
       "      <td>0.98725</td>\n",
       "      <td>0.9470</td>\n",
       "      <td>0.959236</td>\n",
       "      <td>0.985250</td>\n",
       "      <td>0.972054</td>\n",
       "      <td>0.891046</td>\n",
       "    </tr>\n",
       "    <tr>\n",
       "      <th>TFIDF</th>\n",
       "      <td>0.94765</td>\n",
       "      <td>0.9400</td>\n",
       "      <td>0.940177</td>\n",
       "      <td>0.999466</td>\n",
       "      <td>0.968915</td>\n",
       "      <td>0.927288</td>\n",
       "    </tr>\n",
       "    <tr>\n",
       "      <th>SVD</th>\n",
       "      <td>0.93540</td>\n",
       "      <td>0.9351</td>\n",
       "      <td>0.935568</td>\n",
       "      <td>0.999466</td>\n",
       "      <td>0.966462</td>\n",
       "      <td>0.817561</td>\n",
       "    </tr>\n",
       "    <tr>\n",
       "      <th>NMF</th>\n",
       "      <td>0.93565</td>\n",
       "      <td>0.9355</td>\n",
       "      <td>0.935594</td>\n",
       "      <td>0.999893</td>\n",
       "      <td>0.966675</td>\n",
       "      <td>0.802093</td>\n",
       "    </tr>\n",
       "    <tr>\n",
       "      <th>Word2Vec</th>\n",
       "      <td>0.95235</td>\n",
       "      <td>0.9435</td>\n",
       "      <td>0.954985</td>\n",
       "      <td>0.986105</td>\n",
       "      <td>0.970290</td>\n",
       "      <td>0.908078</td>\n",
       "    </tr>\n",
       "  </tbody>\n",
       "</table>\n",
       "</div>"
      ],
      "text/plain": [
       "          train_acc  test_acc  precision    recall        f1   roc_auc\n",
       "BOW         0.98725    0.9470   0.959236  0.985250  0.972054  0.891046\n",
       "TFIDF       0.94765    0.9400   0.940177  0.999466  0.968915  0.927288\n",
       "SVD         0.93540    0.9351   0.935568  0.999466  0.966462  0.817561\n",
       "NMF         0.93565    0.9355   0.935594  0.999893  0.966675  0.802093\n",
       "Word2Vec    0.95235    0.9435   0.954985  0.986105  0.970290  0.908078"
      ]
     },
     "execution_count": 93,
     "metadata": {},
     "output_type": "execute_result"
    }
   ],
   "source": [
    "logreg = LogisticRegression(max_iter=500, random_state=9)\n",
    "\n",
    "logreg_cv = model_cv(logreg, embeddings, y)\n",
    "df_model_cv(logreg_cv, embeddings_names, results_names)"
   ]
  },
  {
   "cell_type": "code",
   "execution_count": null,
   "metadata": {},
   "outputs": [],
   "source": []
  },
  {
   "cell_type": "code",
   "execution_count": null,
   "metadata": {},
   "outputs": [],
   "source": []
  },
  {
   "cell_type": "code",
   "execution_count": 94,
   "metadata": {},
   "outputs": [
    {
     "data": {
      "text/html": [
       "<div>\n",
       "<style scoped>\n",
       "    .dataframe tbody tr th:only-of-type {\n",
       "        vertical-align: middle;\n",
       "    }\n",
       "\n",
       "    .dataframe tbody tr th {\n",
       "        vertical-align: top;\n",
       "    }\n",
       "\n",
       "    .dataframe thead th {\n",
       "        text-align: right;\n",
       "    }\n",
       "</style>\n",
       "<table border=\"1\" class=\"dataframe\">\n",
       "  <thead>\n",
       "    <tr style=\"text-align: right;\">\n",
       "      <th></th>\n",
       "      <th>train_acc</th>\n",
       "      <th>test_acc</th>\n",
       "      <th>precision</th>\n",
       "      <th>recall</th>\n",
       "      <th>f1</th>\n",
       "      <th>roc_auc</th>\n",
       "    </tr>\n",
       "  </thead>\n",
       "  <tbody>\n",
       "    <tr>\n",
       "      <th>BOW</th>\n",
       "      <td>0.982000</td>\n",
       "      <td>0.936400</td>\n",
       "      <td>0.965186</td>\n",
       "      <td>0.966971</td>\n",
       "      <td>0.966014</td>\n",
       "      <td>0.906253</td>\n",
       "    </tr>\n",
       "    <tr>\n",
       "      <th>TFIDF</th>\n",
       "      <td>0.998700</td>\n",
       "      <td>0.947800</td>\n",
       "      <td>0.951643</td>\n",
       "      <td>0.994762</td>\n",
       "      <td>0.972722</td>\n",
       "      <td>0.928310</td>\n",
       "    </tr>\n",
       "    <tr>\n",
       "      <th>SVD</th>\n",
       "      <td>0.623051</td>\n",
       "      <td>0.611102</td>\n",
       "      <td>0.984858</td>\n",
       "      <td>0.593416</td>\n",
       "      <td>0.740405</td>\n",
       "      <td>0.803818</td>\n",
       "    </tr>\n",
       "    <tr>\n",
       "      <th>NMF</th>\n",
       "      <td>0.654351</td>\n",
       "      <td>0.647902</td>\n",
       "      <td>0.984224</td>\n",
       "      <td>0.633818</td>\n",
       "      <td>0.770986</td>\n",
       "      <td>0.808532</td>\n",
       "    </tr>\n",
       "    <tr>\n",
       "      <th>Word2Vec</th>\n",
       "      <td>0.913251</td>\n",
       "      <td>0.875998</td>\n",
       "      <td>0.980944</td>\n",
       "      <td>0.884778</td>\n",
       "      <td>0.930178</td>\n",
       "      <td>0.911183</td>\n",
       "    </tr>\n",
       "  </tbody>\n",
       "</table>\n",
       "</div>"
      ],
      "text/plain": [
       "          train_acc  test_acc  precision    recall        f1   roc_auc\n",
       "BOW        0.982000  0.936400   0.965186  0.966971  0.966014  0.906253\n",
       "TFIDF      0.998700  0.947800   0.951643  0.994762  0.972722  0.928310\n",
       "SVD        0.623051  0.611102   0.984858  0.593416  0.740405  0.803818\n",
       "NMF        0.654351  0.647902   0.984224  0.633818  0.770986  0.808532\n",
       "Word2Vec   0.913251  0.875998   0.980944  0.884778  0.930178  0.911183"
      ]
     },
     "execution_count": 94,
     "metadata": {},
     "output_type": "execute_result"
    }
   ],
   "source": [
    "svc = SVC(class_weight='balanced', probability=True)\n",
    "\n",
    "svc_cv = model_cv(svc, embeddings, y)\n",
    "df_model_cv(svc_cv, embeddings_names, results_names)"
   ]
  },
  {
   "cell_type": "code",
   "execution_count": null,
   "metadata": {},
   "outputs": [],
   "source": []
  },
  {
   "cell_type": "markdown",
   "metadata": {},
   "source": [
    "### Verification"
   ]
  },
  {
   "cell_type": "code",
   "execution_count": 14,
   "metadata": {},
   "outputs": [],
   "source": [
    "with open('data/tfidf_vectorizer.pickle', 'rb') as handle:\n",
    "    vectorizer = pickle.load(handle)"
   ]
  },
  {
   "cell_type": "code",
   "execution_count": 15,
   "metadata": {},
   "outputs": [
    {
     "data": {
      "text/plain": [
       "SGDClassifier(alpha=0.0001, average=False, class_weight=None,\n",
       "              early_stopping=False, epsilon=0.1, eta0=0.0, fit_intercept=True,\n",
       "              l1_ratio=0.15, learning_rate='optimal', loss='hinge',\n",
       "              max_iter=1000, n_iter_no_change=5, n_jobs=None, penalty='l2',\n",
       "              power_t=0.5, random_state=9, shuffle=True, tol=0.001,\n",
       "              validation_fraction=0.1, verbose=0, warm_start=False)"
      ]
     },
     "execution_count": 15,
     "metadata": {},
     "output_type": "execute_result"
    }
   ],
   "source": [
    "sgd.fit(M_tfidf, y)"
   ]
  },
  {
   "cell_type": "code",
   "execution_count": 16,
   "metadata": {},
   "outputs": [],
   "source": [
    "review_test_pos = 'This game is amazing ^^, my son plays with it all the time!'\n",
    "review_test_neg = 'I\\'m really disappointed with this game. My son doesn\\'t like playing with it.'"
   ]
  },
  {
   "cell_type": "code",
   "execution_count": 17,
   "metadata": {},
   "outputs": [
    {
     "data": {
      "text/plain": [
       "array([1])"
      ]
     },
     "execution_count": 17,
     "metadata": {},
     "output_type": "execute_result"
    }
   ],
   "source": [
    "review_tokens_test_pos = f.normalize_single_text(review_test_pos)\n",
    "tfidf_vector_test_pos = vectorizer.transform([' '.join(review_tokens_test_pos)])\n",
    "sgd.predict(tfidf_vector_test_pos)"
   ]
  },
  {
   "cell_type": "code",
   "execution_count": 18,
   "metadata": {},
   "outputs": [
    {
     "data": {
      "text/plain": [
       "array([0])"
      ]
     },
     "execution_count": 18,
     "metadata": {},
     "output_type": "execute_result"
    }
   ],
   "source": [
    "review_tokens_test_neg = f.normalize_single_text(review_test_neg)\n",
    "tfidf_vector_test_neg = vectorizer.transform([' '.join(review_tokens_test_neg)])\n",
    "sgd.predict(tfidf_vector_test_neg)"
   ]
  },
  {
   "cell_type": "code",
   "execution_count": null,
   "metadata": {},
   "outputs": [],
   "source": []
  },
  {
   "cell_type": "markdown",
   "metadata": {},
   "source": [
    "### Train test split & check reviews with incorrect labels"
   ]
  },
  {
   "cell_type": "code",
   "execution_count": 31,
   "metadata": {},
   "outputs": [],
   "source": [
    "from sklearn.model_selection import train_test_split\n",
    "df = pd.read_csv('data/reviews_toys_games.csv')"
   ]
  },
  {
   "cell_type": "code",
   "execution_count": null,
   "metadata": {},
   "outputs": [],
   "source": [
    "X_train, X_test, y_train, y_test = train_test_split(M_tfidf, np.array(y), test_size=0.33, random_state=9)"
   ]
  },
  {
   "cell_type": "code",
   "execution_count": 32,
   "metadata": {},
   "outputs": [
    {
     "data": {
      "text/plain": [
       "SGDClassifier(alpha=0.0001, average=False, class_weight=None,\n",
       "              early_stopping=False, epsilon=0.1, eta0=0.0, fit_intercept=True,\n",
       "              l1_ratio=0.15, learning_rate='optimal', loss='hinge',\n",
       "              max_iter=1000, n_iter_no_change=5, n_jobs=None, penalty='l2',\n",
       "              power_t=0.5, random_state=9, shuffle=True, tol=0.001,\n",
       "              validation_fraction=0.1, verbose=0, warm_start=False)"
      ]
     },
     "execution_count": 32,
     "metadata": {},
     "output_type": "execute_result"
    }
   ],
   "source": [
    "sgd.fit(X_train, y_train)"
   ]
  },
  {
   "cell_type": "code",
   "execution_count": 29,
   "metadata": {},
   "outputs": [],
   "source": [
    "y_pred = sgd.predict(X_test)"
   ]
  },
  {
   "cell_type": "code",
   "execution_count": 35,
   "metadata": {},
   "outputs": [
    {
     "data": {
      "text/plain": [
       "(array([  10,   55,   75,  152,  162,  201,  242,  245,  262,  285,  305,\n",
       "         310,  316,  333,  351,  353,  373,  390,  406,  452,  483,  500,\n",
       "         520,  540,  547,  550,  586,  595,  598,  615,  624,  645,  675,\n",
       "         691,  701,  718,  743,  761,  791,  799,  821,  825,  840,  843,\n",
       "         861,  889,  893,  973,  974, 1013, 1015, 1038, 1141, 1182, 1257,\n",
       "        1260, 1326, 1364, 1380, 1399, 1412, 1445, 1457, 1508, 1536, 1575,\n",
       "        1591, 1638, 1661, 1668, 1671, 1681, 1686, 1688, 1712, 1725, 1769,\n",
       "        1771, 1802, 1874, 1881, 1886, 1906, 1908, 1919, 1931, 1944, 1955,\n",
       "        1972, 2001, 2011, 2035, 2043, 2079, 2111, 2119, 2155, 2233, 2252,\n",
       "        2272, 2316, 2317, 2332, 2335, 2364, 2416, 2433, 2483, 2515, 2557,\n",
       "        2563, 2571, 2585, 2603, 2624, 2628, 2631, 2644, 2652, 2666, 2709,\n",
       "        2749, 2757, 2805, 2904, 2916, 2955, 2983, 2988, 3002, 3042, 3045,\n",
       "        3050, 3083, 3084, 3126, 3148, 3158, 3177, 3196, 3197, 3218, 3248,\n",
       "        3263, 3281], dtype=int64),)"
      ]
     },
     "execution_count": 35,
     "metadata": {},
     "output_type": "execute_result"
    }
   ],
   "source": [
    "y_diff = y_test - y_pred\n",
    "np.where(y_diff != 0)"
   ]
  },
  {
   "cell_type": "code",
   "execution_count": 52,
   "metadata": {},
   "outputs": [
    {
     "name": "stdout",
     "output_type": "stream",
     "text": [
      "This is indeed a small book. This particular ROBOT sticker book was at best, OK.\n",
      "Why? Well, there's really no space to create multiple robots. Stickers are not easy to remove.\n",
      "Not recommended unless you just gotta have it to entertain a child. But this may only last ten minutes.\n",
      "Plus side, small enough to stick in purse for travel.\n",
      "\n",
      "real label: 0 \n",
      "predicted label: 1\n"
     ]
    }
   ],
   "source": [
    "i = 10\n",
    "print(df['review'][i])\n",
    "print('\\nreal label:', y_test[i], '\\npredicted label:', y_pred[i])"
   ]
  },
  {
   "cell_type": "code",
   "execution_count": 53,
   "metadata": {},
   "outputs": [
    {
     "name": "stdout",
     "output_type": "stream",
     "text": [
      "Okay, so we are new to the \"Elf on the Shelf\" tradition. My granddaughter is only two so I let her open the box. I had her hold the elf while I read the story, which, you more experienced shelfers know that is a no-no. We were able to fix it with, \"Christopher will have to go back to the North Pole tonight to get his magic back\", whew! That being said, the book is big and the illustrations are beautifully colorful. Christopher looks EXACTLY like the illustrations. On one particular page he is pictured actual size, face on, my granddaughter noticed and placed Christopher on top of his picture. I think it just helps with the fantasy. The doll is super cute and seems to be well made. I think the bendable arms will be helpful in coming up with creative ways to place him. The holidays are all about traditions and I think this is a really fun one. I'm very happy with the purchase.\n",
      "\n",
      "real label: 1 \n",
      "predicted label: 0\n"
     ]
    }
   ],
   "source": [
    "i = 2011\n",
    "print(df['review'][i])\n",
    "print('\\nreal label:', y_test[i], '\\npredicted label:', y_pred[i])"
   ]
  },
  {
   "cell_type": "code",
   "execution_count": 59,
   "metadata": {},
   "outputs": [
    {
     "name": "stdout",
     "output_type": "stream",
     "text": [
      "adorable\n",
      "\n",
      "real label: 0 \n",
      "predicted label: 1\n"
     ]
    }
   ],
   "source": [
    "i = 2416\n",
    "print(df['review'][i])\n",
    "print('\\nreal label:', y_test[i], '\\npredicted label:', y_pred[i])"
   ]
  },
  {
   "cell_type": "code",
   "execution_count": null,
   "metadata": {},
   "outputs": [],
   "source": []
  },
  {
   "cell_type": "code",
   "execution_count": null,
   "metadata": {},
   "outputs": [],
   "source": []
  },
  {
   "cell_type": "code",
   "execution_count": null,
   "metadata": {},
   "outputs": [],
   "source": []
  },
  {
   "cell_type": "code",
   "execution_count": null,
   "metadata": {},
   "outputs": [],
   "source": []
  },
  {
   "cell_type": "code",
   "execution_count": null,
   "metadata": {},
   "outputs": [],
   "source": []
  },
  {
   "cell_type": "code",
   "execution_count": null,
   "metadata": {},
   "outputs": [],
   "source": []
  }
 ],
 "metadata": {
  "kernelspec": {
   "display_name": "fastai-nlp",
   "language": "python",
   "name": "fastai-nlp"
  },
  "language_info": {
   "codemirror_mode": {
    "name": "ipython",
    "version": 3
   },
   "file_extension": ".py",
   "mimetype": "text/x-python",
   "name": "python",
   "nbconvert_exporter": "python",
   "pygments_lexer": "ipython3",
   "version": "3.7.6"
  }
 },
 "nbformat": 4,
 "nbformat_minor": 2
}
