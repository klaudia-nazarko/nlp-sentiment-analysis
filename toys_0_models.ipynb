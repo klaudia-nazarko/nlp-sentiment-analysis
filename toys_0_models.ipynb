{
 "cells": [
  {
   "cell_type": "markdown",
   "metadata": {},
   "source": [
    "# Sentiment Analysis with Machine Learning Models"
   ]
  },
  {
   "cell_type": "code",
   "execution_count": 2,
   "metadata": {},
   "outputs": [],
   "source": [
    "import numpy as np\n",
    "import pandas as pd\n",
    "import matplotlib.pyplot as plt\n",
    "\n",
    "from sklearn.naive_bayes import MultinomialNB\n",
    "from sklearn.linear_model import SGDClassifier, LogisticRegression\n",
    "from sklearn.svm import SVC\n",
    "from sklearn.preprocessing import MinMaxScaler\n",
    "from sklearn.model_selection import train_test_split\n",
    "from sklearn.metrics import plot_confusion_matrix\n",
    "\n",
    "from imblearn.under_sampling import RandomUnderSampler\n",
    "from imblearn.over_sampling import RandomOverSampler, SMOTE\n",
    "from imblearn.pipeline import Pipeline, make_pipeline\n",
    "\n",
    "import functions as f"
   ]
  },
  {
   "cell_type": "code",
   "execution_count": 3,
   "metadata": {},
   "outputs": [],
   "source": [
    "M_bow = f.load_pickle('data/M_bow_100k.pickle')\n",
    "M_tfidf = f.load_pickle('data/M_tfidf_100k.pickle')\n",
    "M_svd = f.load_pickle('data/M_svd_100k.pickle')\n",
    "M_nmf = f.load_pickle('data/M_nmf_100k.pickle')\n",
    "M_word2vec = f.load_pickle('data/M_word2vec_100k.pickle')\n",
    "y = f.load_pickle('data/sentiment_100k.pickle')"
   ]
  },
  {
   "cell_type": "markdown",
   "metadata": {},
   "source": [
    "## Machine Learning Models Comparison\n",
    "\n",
    "There is no one answer which combination of text representation and machine learning model will perform best. In order to find the optimal solution, each configuration needs to be tested. There are 5 different text representations: bag of words, TF-IDF, co-occurrence matrix with SVD and NMF decomposition and word2vec. They will be used in the following predictive models:\n",
    "- Multinomial Naive Bayes\n",
    "- SGD classifier\n",
    "- Logistic Regression\n",
    "\n",
    "In order to evaluate model performance, cross validation is implemented, measuring: test accuracy, f1 score, precision and recall. In the first place, model will be assessed by accuracy and f1 score. At the same time, it's important to note that there is high class imbalance in the dataset - the majority of reviews is positive. Due to this fact, it's enough to label all reviews as positive to reach 91,5% accuracy. Because of that, accuracy is not a sufficient metric and it's also valuable to look at precision and recall.\n",
    "\n",
    "Since Naive Bayes takes only positive values as input, SVD and Word2Vec embeddings were transformed with MinMaxScaler."
   ]
  },
  {
   "cell_type": "code",
   "execution_count": 4,
   "metadata": {},
   "outputs": [
    {
     "name": "stdout",
     "output_type": "stream",
     "text": [
      "Baseline accuracy:  0.9148\n"
     ]
    }
   ],
   "source": [
    "baseline = sum(y)/len(y)\n",
    "print('Baseline accuracy: ', baseline)"
   ]
  },
  {
   "cell_type": "code",
   "execution_count": 5,
   "metadata": {},
   "outputs": [],
   "source": [
    "scaler = MinMaxScaler()\n",
    "M_svd_positive = scaler.fit_transform(M_svd)\n",
    "M_word2vec_positive = scaler.fit_transform(M_word2vec)"
   ]
  },
  {
   "cell_type": "code",
   "execution_count": 6,
   "metadata": {},
   "outputs": [],
   "source": [
    "embeddings_names = ['BOW', 'TFIDF', 'SVD', 'NMF', 'Word2Vec']\n",
    "embeddings = [M_bow, M_tfidf, M_svd, M_nmf, M_word2vec]\n",
    "embeddings_positive = [M_bow, M_tfidf, M_svd_positive, M_nmf, M_word2vec_positive]\n",
    "results_names = ['test_acc', 'f1', 'precision', 'recall']"
   ]
  },
  {
   "cell_type": "markdown",
   "metadata": {},
   "source": [
    "### Multinomial Naive Bayes\n",
    "\n",
    "Naive Bayes Classifier is a simple model that’s usually used in a wide variety of classification tasks (both binary and multiclass). The name \"naive\" comes from the fact that it assumes the features that go into the model are independent of each other. It provides a way to calculate the probability of a piece of data belonging to a given class, given our prior knowledge.\n",
    "\n",
    "It performs best with BOW word vectors (the highest test accuracy and f1 score). Naive Bayes used with SVD and Word2Vec model return the baseline accuracy and recall equal to 1 which means that it assigned all reviews to the \"positive\" class."
   ]
  },
  {
   "cell_type": "code",
   "execution_count": 7,
   "metadata": {},
   "outputs": [
    {
     "data": {
      "text/html": [
       "<div>\n",
       "<style scoped>\n",
       "    .dataframe tbody tr th:only-of-type {\n",
       "        vertical-align: middle;\n",
       "    }\n",
       "\n",
       "    .dataframe tbody tr th {\n",
       "        vertical-align: top;\n",
       "    }\n",
       "\n",
       "    .dataframe thead th {\n",
       "        text-align: right;\n",
       "    }\n",
       "</style>\n",
       "<table border=\"1\" class=\"dataframe\">\n",
       "  <thead>\n",
       "    <tr style=\"text-align: right;\">\n",
       "      <th></th>\n",
       "      <th>test_acc</th>\n",
       "      <th>f1</th>\n",
       "      <th>precision</th>\n",
       "      <th>recall</th>\n",
       "    </tr>\n",
       "  </thead>\n",
       "  <tbody>\n",
       "    <tr>\n",
       "      <th>BOW</th>\n",
       "      <td>0.94656</td>\n",
       "      <td>0.970859</td>\n",
       "      <td>0.968570</td>\n",
       "      <td>0.973164</td>\n",
       "    </tr>\n",
       "    <tr>\n",
       "      <th>TFIDF</th>\n",
       "      <td>0.93515</td>\n",
       "      <td>0.965680</td>\n",
       "      <td>0.935993</td>\n",
       "      <td>0.997311</td>\n",
       "    </tr>\n",
       "    <tr>\n",
       "      <th>SVD</th>\n",
       "      <td>0.91480</td>\n",
       "      <td>0.955504</td>\n",
       "      <td>0.914800</td>\n",
       "      <td>1.000000</td>\n",
       "    </tr>\n",
       "    <tr>\n",
       "      <th>NMF</th>\n",
       "      <td>0.72811</td>\n",
       "      <td>0.841202</td>\n",
       "      <td>0.903112</td>\n",
       "      <td>0.787243</td>\n",
       "    </tr>\n",
       "    <tr>\n",
       "      <th>Word2Vec</th>\n",
       "      <td>0.91480</td>\n",
       "      <td>0.955504</td>\n",
       "      <td>0.914800</td>\n",
       "      <td>1.000000</td>\n",
       "    </tr>\n",
       "  </tbody>\n",
       "</table>\n",
       "</div>"
      ],
      "text/plain": [
       "          test_acc        f1  precision    recall\n",
       "BOW        0.94656  0.970859   0.968570  0.973164\n",
       "TFIDF      0.93515  0.965680   0.935993  0.997311\n",
       "SVD        0.91480  0.955504   0.914800  1.000000\n",
       "NMF        0.72811  0.841202   0.903112  0.787243\n",
       "Word2Vec   0.91480  0.955504   0.914800  1.000000"
      ]
     },
     "execution_count": 7,
     "metadata": {},
     "output_type": "execute_result"
    }
   ],
   "source": [
    "naive = MultinomialNB()\n",
    "\n",
    "naive_cv = f.model_cv(naive, embeddings_positive, y)\n",
    "f.df_model_cv(naive_cv, embeddings_names, results_names)"
   ]
  },
  {
   "cell_type": "markdown",
   "metadata": {},
   "source": [
    "### SGD Classifier\n",
    "\n",
    "SGD Classifier implements regularized linear models with stochastic gradient descent learning. In the first example it fits SVM model, and in the second logistic regression.\n",
    "\n",
    "An SVM model is a representation of the examples as points in space, mapped so that the examples of the separate categories are divided by a clear gap that is as wide as possible.\n",
    "Logistic regression is a statistical model that in its basic form uses a logistic function to model a binary dependent variable.\n",
    "\n",
    "Both SGD Classifiers return similar results. The best solution is achieved with BOW word vectors and SVD model."
   ]
  },
  {
   "cell_type": "code",
   "execution_count": 13,
   "metadata": {},
   "outputs": [
    {
     "data": {
      "text/html": [
       "<div>\n",
       "<style scoped>\n",
       "    .dataframe tbody tr th:only-of-type {\n",
       "        vertical-align: middle;\n",
       "    }\n",
       "\n",
       "    .dataframe tbody tr th {\n",
       "        vertical-align: top;\n",
       "    }\n",
       "\n",
       "    .dataframe thead th {\n",
       "        text-align: right;\n",
       "    }\n",
       "</style>\n",
       "<table border=\"1\" class=\"dataframe\">\n",
       "  <thead>\n",
       "    <tr style=\"text-align: right;\">\n",
       "      <th></th>\n",
       "      <th>test_acc</th>\n",
       "      <th>f1</th>\n",
       "      <th>precision</th>\n",
       "      <th>recall</th>\n",
       "    </tr>\n",
       "  </thead>\n",
       "  <tbody>\n",
       "    <tr>\n",
       "      <th>BOW</th>\n",
       "      <td>0.95621</td>\n",
       "      <td>0.976397</td>\n",
       "      <td>0.963097</td>\n",
       "      <td>0.990074</td>\n",
       "    </tr>\n",
       "    <tr>\n",
       "      <th>TFIDF</th>\n",
       "      <td>0.94960</td>\n",
       "      <td>0.973100</td>\n",
       "      <td>0.950783</td>\n",
       "      <td>0.996491</td>\n",
       "    </tr>\n",
       "    <tr>\n",
       "      <th>SVD</th>\n",
       "      <td>0.85770</td>\n",
       "      <td>0.921848</td>\n",
       "      <td>0.925756</td>\n",
       "      <td>0.918135</td>\n",
       "    </tr>\n",
       "    <tr>\n",
       "      <th>NMF</th>\n",
       "      <td>0.91480</td>\n",
       "      <td>0.955504</td>\n",
       "      <td>0.914800</td>\n",
       "      <td>1.000000</td>\n",
       "    </tr>\n",
       "    <tr>\n",
       "      <th>Word2Vec</th>\n",
       "      <td>0.94956</td>\n",
       "      <td>0.972803</td>\n",
       "      <td>0.960062</td>\n",
       "      <td>0.985931</td>\n",
       "    </tr>\n",
       "  </tbody>\n",
       "</table>\n",
       "</div>"
      ],
      "text/plain": [
       "          test_acc        f1  precision    recall\n",
       "BOW        0.95621  0.976397   0.963097  0.990074\n",
       "TFIDF      0.94960  0.973100   0.950783  0.996491\n",
       "SVD        0.85770  0.921848   0.925756  0.918135\n",
       "NMF        0.91480  0.955504   0.914800  1.000000\n",
       "Word2Vec   0.94956  0.972803   0.960062  0.985931"
      ]
     },
     "execution_count": 13,
     "metadata": {},
     "output_type": "execute_result"
    }
   ],
   "source": [
    "sgd = SGDClassifier(random_state=9, n_jobs=-1)\n",
    "\n",
    "sgd_cv = f.model_cv(sgd, embeddings, y)\n",
    "f.df_model_cv(sgd_cv, embeddings_names, results_names)"
   ]
  },
  {
   "cell_type": "code",
   "execution_count": 14,
   "metadata": {},
   "outputs": [
    {
     "data": {
      "text/html": [
       "<div>\n",
       "<style scoped>\n",
       "    .dataframe tbody tr th:only-of-type {\n",
       "        vertical-align: middle;\n",
       "    }\n",
       "\n",
       "    .dataframe tbody tr th {\n",
       "        vertical-align: top;\n",
       "    }\n",
       "\n",
       "    .dataframe thead th {\n",
       "        text-align: right;\n",
       "    }\n",
       "</style>\n",
       "<table border=\"1\" class=\"dataframe\">\n",
       "  <thead>\n",
       "    <tr style=\"text-align: right;\">\n",
       "      <th></th>\n",
       "      <th>test_acc</th>\n",
       "      <th>f1</th>\n",
       "      <th>precision</th>\n",
       "      <th>recall</th>\n",
       "    </tr>\n",
       "  </thead>\n",
       "  <tbody>\n",
       "    <tr>\n",
       "      <th>BOW</th>\n",
       "      <td>0.95324</td>\n",
       "      <td>0.974855</td>\n",
       "      <td>0.959370</td>\n",
       "      <td>0.990850</td>\n",
       "    </tr>\n",
       "    <tr>\n",
       "      <th>TFIDF</th>\n",
       "      <td>0.94032</td>\n",
       "      <td>0.968344</td>\n",
       "      <td>0.940585</td>\n",
       "      <td>0.997792</td>\n",
       "    </tr>\n",
       "    <tr>\n",
       "      <th>SVD</th>\n",
       "      <td>0.84823</td>\n",
       "      <td>0.915755</td>\n",
       "      <td>0.928278</td>\n",
       "      <td>0.904143</td>\n",
       "    </tr>\n",
       "    <tr>\n",
       "      <th>NMF</th>\n",
       "      <td>0.91480</td>\n",
       "      <td>0.955504</td>\n",
       "      <td>0.914800</td>\n",
       "      <td>1.000000</td>\n",
       "    </tr>\n",
       "    <tr>\n",
       "      <th>Word2Vec</th>\n",
       "      <td>0.94950</td>\n",
       "      <td>0.972703</td>\n",
       "      <td>0.962119</td>\n",
       "      <td>0.983548</td>\n",
       "    </tr>\n",
       "  </tbody>\n",
       "</table>\n",
       "</div>"
      ],
      "text/plain": [
       "          test_acc        f1  precision    recall\n",
       "BOW        0.95324  0.974855   0.959370  0.990850\n",
       "TFIDF      0.94032  0.968344   0.940585  0.997792\n",
       "SVD        0.84823  0.915755   0.928278  0.904143\n",
       "NMF        0.91480  0.955504   0.914800  1.000000\n",
       "Word2Vec   0.94950  0.972703   0.962119  0.983548"
      ]
     },
     "execution_count": 14,
     "metadata": {},
     "output_type": "execute_result"
    }
   ],
   "source": [
    "sgd_log = SGDClassifier(loss='log', penalty='elasticnet', random_state=9, n_jobs=-1)\n",
    "\n",
    "sgd_log_cv = f.model_cv(sgd_log, embeddings, y)\n",
    "f.df_model_cv(sgd_log_cv, embeddings_names, results_names)"
   ]
  },
  {
   "cell_type": "markdown",
   "metadata": {},
   "source": [
    "### Logistic Regression\n",
    "\n",
    "Logistic regression, despite its name, is a linear model for classification rather than regression. In this model, the probabilities describing the possible outcomes of a single trial are modeled using a logistic function.\n",
    "\n",
    "It returns the best results for TF-IDF word vectors. It is also the best result achieved so far. Logistic Regression with SVD and NMF word vectors assigned all observations to the \"positive\" class (recall = 1)."
   ]
  },
  {
   "cell_type": "code",
   "execution_count": 7,
   "metadata": {},
   "outputs": [
    {
     "data": {
      "text/html": [
       "<div>\n",
       "<style scoped>\n",
       "    .dataframe tbody tr th:only-of-type {\n",
       "        vertical-align: middle;\n",
       "    }\n",
       "\n",
       "    .dataframe tbody tr th {\n",
       "        vertical-align: top;\n",
       "    }\n",
       "\n",
       "    .dataframe thead th {\n",
       "        text-align: right;\n",
       "    }\n",
       "</style>\n",
       "<table border=\"1\" class=\"dataframe\">\n",
       "  <thead>\n",
       "    <tr style=\"text-align: right;\">\n",
       "      <th></th>\n",
       "      <th>test_acc</th>\n",
       "      <th>f1</th>\n",
       "      <th>precision</th>\n",
       "      <th>recall</th>\n",
       "    </tr>\n",
       "  </thead>\n",
       "  <tbody>\n",
       "    <tr>\n",
       "      <th>BOW</th>\n",
       "      <td>0.95678</td>\n",
       "      <td>0.976600</td>\n",
       "      <td>0.967468</td>\n",
       "      <td>0.985909</td>\n",
       "    </tr>\n",
       "    <tr>\n",
       "      <th>TFIDF</th>\n",
       "      <td>0.95808</td>\n",
       "      <td>0.977440</td>\n",
       "      <td>0.962655</td>\n",
       "      <td>0.992687</td>\n",
       "    </tr>\n",
       "    <tr>\n",
       "      <th>SVD</th>\n",
       "      <td>0.91480</td>\n",
       "      <td>0.955504</td>\n",
       "      <td>0.914800</td>\n",
       "      <td>1.000000</td>\n",
       "    </tr>\n",
       "    <tr>\n",
       "      <th>NMF</th>\n",
       "      <td>0.91480</td>\n",
       "      <td>0.955504</td>\n",
       "      <td>0.914800</td>\n",
       "      <td>1.000000</td>\n",
       "    </tr>\n",
       "    <tr>\n",
       "      <th>Word2Vec</th>\n",
       "      <td>0.95048</td>\n",
       "      <td>0.973322</td>\n",
       "      <td>0.959593</td>\n",
       "      <td>0.987451</td>\n",
       "    </tr>\n",
       "  </tbody>\n",
       "</table>\n",
       "</div>"
      ],
      "text/plain": [
       "          test_acc        f1  precision    recall\n",
       "BOW        0.95678  0.976600   0.967468  0.985909\n",
       "TFIDF      0.95808  0.977440   0.962655  0.992687\n",
       "SVD        0.91480  0.955504   0.914800  1.000000\n",
       "NMF        0.91480  0.955504   0.914800  1.000000\n",
       "Word2Vec   0.95048  0.973322   0.959593  0.987451"
      ]
     },
     "execution_count": 7,
     "metadata": {},
     "output_type": "execute_result"
    }
   ],
   "source": [
    "logreg = LogisticRegression(max_iter=500, random_state=9, n_jobs=-1)\n",
    "\n",
    "logreg_cv = f.model_cv(logreg, embeddings, y)\n",
    "f.df_model_cv(logreg_cv, embeddings_names, results_names)"
   ]
  },
  {
   "cell_type": "code",
   "execution_count": null,
   "metadata": {},
   "outputs": [],
   "source": []
  },
  {
   "cell_type": "markdown",
   "metadata": {},
   "source": [
    "## Verification of model performance\n",
    "\n",
    "Logistic Regression with TF-IDF word vectors resulted in 95,8% accuracy and 0.9774 f1-score. It's the best result achieved so far.\n",
    "\n",
    "Let's analyze results of this particular model:\n",
    "- try to predict sentiment of two example reviews\n",
    "- analyze errors (true positiives, false positives etc)\n",
    "- browse reviews that were assigned to incorrect class"
   ]
  },
  {
   "cell_type": "code",
   "execution_count": 8,
   "metadata": {},
   "outputs": [],
   "source": [
    "vectorizer = f.load_pickle('data/tfidf_vectorizer_100k.pickle')\n",
    "df = pd.read_csv('data/reviews_toys_games_100k.csv')\n",
    "\n",
    "X_train, X_test, y_train, y_test = train_test_split(M_tfidf, np.array(y), test_size=0.33, random_state=9)"
   ]
  },
  {
   "cell_type": "code",
   "execution_count": 9,
   "metadata": {},
   "outputs": [
    {
     "data": {
      "text/plain": [
       "LogisticRegression(max_iter=500, n_jobs=-1, random_state=9)"
      ]
     },
     "execution_count": 9,
     "metadata": {},
     "output_type": "execute_result"
    }
   ],
   "source": [
    "logreg.fit(X_train, y_train)"
   ]
  },
  {
   "cell_type": "code",
   "execution_count": 10,
   "metadata": {},
   "outputs": [],
   "source": [
    "review_test_pos = 'This game is amazing ^^, my son plays with it all the time!'\n",
    "review_test_neg = 'I\\'m really disappointed with this game. My son doesn\\'t like playing with it.'"
   ]
  },
  {
   "cell_type": "code",
   "execution_count": 11,
   "metadata": {},
   "outputs": [
    {
     "data": {
      "text/plain": [
       "array([1])"
      ]
     },
     "execution_count": 11,
     "metadata": {},
     "output_type": "execute_result"
    }
   ],
   "source": [
    "review_tokens_test_pos = f.normalize_single_text(review_test_pos)\n",
    "tfidf_vector_test_pos = vectorizer.transform([' '.join(review_tokens_test_pos)])\n",
    "logreg.predict(tfidf_vector_test_pos)"
   ]
  },
  {
   "cell_type": "code",
   "execution_count": 12,
   "metadata": {},
   "outputs": [
    {
     "data": {
      "text/plain": [
       "array([0])"
      ]
     },
     "execution_count": 12,
     "metadata": {},
     "output_type": "execute_result"
    }
   ],
   "source": [
    "review_tokens_test_neg = f.normalize_single_text(review_test_neg)\n",
    "tfidf_vector_test_neg = vectorizer.transform([' '.join(review_tokens_test_neg)])\n",
    "logreg.predict(tfidf_vector_test_neg)"
   ]
  },
  {
   "cell_type": "markdown",
   "metadata": {},
   "source": [
    "### Confusion matrix of reviews' sentiment"
   ]
  },
  {
   "cell_type": "code",
   "execution_count": 13,
   "metadata": {},
   "outputs": [],
   "source": [
    "y_pred = logreg.predict(X_test)"
   ]
  },
  {
   "cell_type": "code",
   "execution_count": 75,
   "metadata": {},
   "outputs": [
    {
     "data": {
      "image/png": "[encoded data removed]",
      "text/plain": [
       "<Figure size 864x432 with 4 Axes>"
      ]
     },
     "metadata": {
      "needs_background": "light"
     },
     "output_type": "display_data"
    }
   ],
   "source": [
    "fig, (ax1, ax2) = plt.subplots(nrows=1, ncols=2, figsize=(12, 6))\n",
    "confusion_dict = {ax1: 'true', ax2: 'pred'}\n",
    "\n",
    "for k, v in confusion_dict.items():\n",
    "    plot_confusion_matrix(logreg, X_test, y_test,\n",
    "                          cmap=plt.cm.Blues,\n",
    "                          display_labels=['negative', 'positive'],\n",
    "                          normalize=v, ax=k)\n",
    "    k.set_title('Confusion matrix with \\'%s\\' normalization' % v)\n",
    "plt.tight_layout()\n",
    "plt.show()"
   ]
  },
  {
   "cell_type": "markdown",
   "metadata": {},
   "source": [
    "The model is very good at finding positive reviews - from all positive reviews, over 99% were assigned correct label. When it comes to negative reviews, the model assign correct label only in 57% of cases.\n",
    "\n",
    "When we look at the predicted labels, from all positive labels, 96% are true positives and,3,8% are false positives. Among labels predicted as negative, 89% are true negatives and 11% are false negatives."
   ]
  },
  {
   "cell_type": "code",
   "execution_count": 20,
   "metadata": {},
   "outputs": [
    {
     "data": {
      "text/plain": [
       "array([ 66,  69,  83, 103, 119, 150, 165, 174, 178, 194, 215, 306, 314,\n",
       "       321, 328, 337, 351, 362, 387, 396, 405, 412, 492, 549, 568, 575,\n",
       "       629, 641, 661, 700, 782, 795, 803, 813, 854, 855, 858, 879, 886,\n",
       "       922], dtype=int64)"
      ]
     },
     "execution_count": 20,
     "metadata": {},
     "output_type": "execute_result"
    }
   ],
   "source": [
    "y_diff = y_test - y_pred\n",
    "np.where(y_diff != 0)[0][:40]"
   ]
  },
  {
   "cell_type": "code",
   "execution_count": 24,
   "metadata": {},
   "outputs": [
    {
     "name": "stdout",
     "output_type": "stream",
     "text": [
      "Son really loves it.\n",
      "\n",
      "real label: 0 \n",
      "predicted label: 1\n"
     ]
    }
   ],
   "source": [
    "i = 69\n",
    "print(df['review'][i])\n",
    "print('\\nreal label:', y_test[i], '\\npredicted label:', y_pred[i])"
   ]
  },
  {
   "cell_type": "markdown",
   "metadata": {},
   "source": [
    "In this example, we can see that the real label was incorrect, since the review is obviously positive. In this case, the model was right when assigning positive label."
   ]
  },
  {
   "cell_type": "code",
   "execution_count": 23,
   "metadata": {},
   "outputs": [
    {
     "name": "stdout",
     "output_type": "stream",
     "text": [
      "cheap plastic, broken when arrived in manilla envelope\n",
      "\n",
      "real label: 0 \n",
      "predicted label: 1\n"
     ]
    }
   ],
   "source": [
    "i = 119\n",
    "print(df['review'][i])\n",
    "print('\\nreal label:', y_test[i], '\\npredicted label:', y_pred[i])"
   ]
  },
  {
   "cell_type": "markdown",
   "metadata": {},
   "source": [
    "This review is clearly negative and the model made a mistake. It's interesting why this review was marked as positive, since it contains words like 'cheap' and 'broken'."
   ]
  },
  {
   "cell_type": "code",
   "execution_count": 77,
   "metadata": {},
   "outputs": [
    {
     "name": "stdout",
     "output_type": "stream",
     "text": [
      "Looks good nephew loves it\n",
      "\n",
      "real label: 1 \n",
      "predicted label: 0\n"
     ]
    }
   ],
   "source": [
    "i = 568\n",
    "print(df['review'][i])\n",
    "print('\\nreal label:', y_test[i], '\\npredicted label:', y_pred[i])"
   ]
  },
  {
   "cell_type": "markdown",
   "metadata": {},
   "source": [
    "It's another interesting example - the review is clearly positive but the model assigned it as negative, despite the fact that the review contains such words as 'good' and 'loves'."
   ]
  },
  {
   "cell_type": "markdown",
   "metadata": {},
   "source": [
    "## Under- and over-sampling\n",
    "\n",
    "Since the dataset is highly imbalanced, one of the possible solutions to this problem is to sample observations in a way that the number of items in the classes will be equal. Two approaches will be tested:\n",
    "- under-sampling - removing random observations from the majority class\n",
    "- over-sampling (SMOTE) - adding observations to the minority class.\n",
    "- mix of SMOTE and under-sampling\n",
    "\n",
    "In order to optimize computations, the SGD model was used instead of Logistic Regression.\n",
    "\n",
    "According to the results of this experiment, both under-sampling and SMOTE are not effective methods to improve performance of the model - both accuracy and f1-score decreased. Poor results were achieved also with mix of SMOTE and under-sampling."
   ]
  },
  {
   "cell_type": "code",
   "execution_count": 7,
   "metadata": {},
   "outputs": [
    {
     "data": {
      "text/html": [
       "<div>\n",
       "<style scoped>\n",
       "    .dataframe tbody tr th:only-of-type {\n",
       "        vertical-align: middle;\n",
       "    }\n",
       "\n",
       "    .dataframe tbody tr th {\n",
       "        vertical-align: top;\n",
       "    }\n",
       "\n",
       "    .dataframe thead th {\n",
       "        text-align: right;\n",
       "    }\n",
       "</style>\n",
       "<table border=\"1\" class=\"dataframe\">\n",
       "  <thead>\n",
       "    <tr style=\"text-align: right;\">\n",
       "      <th></th>\n",
       "      <th>test_acc</th>\n",
       "      <th>f1</th>\n",
       "      <th>precision</th>\n",
       "      <th>recall</th>\n",
       "    </tr>\n",
       "  </thead>\n",
       "  <tbody>\n",
       "    <tr>\n",
       "      <th>BOW</th>\n",
       "      <td>0.90551</td>\n",
       "      <td>0.946164</td>\n",
       "      <td>0.988042</td>\n",
       "      <td>0.907696</td>\n",
       "    </tr>\n",
       "    <tr>\n",
       "      <th>TFIDF</th>\n",
       "      <td>0.89178</td>\n",
       "      <td>0.937645</td>\n",
       "      <td>0.991350</td>\n",
       "      <td>0.889462</td>\n",
       "    </tr>\n",
       "    <tr>\n",
       "      <th>SVD</th>\n",
       "      <td>0.57232</td>\n",
       "      <td>0.683681</td>\n",
       "      <td>0.969810</td>\n",
       "      <td>0.552678</td>\n",
       "    </tr>\n",
       "    <tr>\n",
       "      <th>NMF</th>\n",
       "      <td>0.57762</td>\n",
       "      <td>0.693126</td>\n",
       "      <td>0.975253</td>\n",
       "      <td>0.554657</td>\n",
       "    </tr>\n",
       "    <tr>\n",
       "      <th>Word2Vec</th>\n",
       "      <td>0.86554</td>\n",
       "      <td>0.921010</td>\n",
       "      <td>0.989895</td>\n",
       "      <td>0.861915</td>\n",
       "    </tr>\n",
       "  </tbody>\n",
       "</table>\n",
       "</div>"
      ],
      "text/plain": [
       "          test_acc        f1  precision    recall\n",
       "BOW        0.90551  0.946164   0.988042  0.907696\n",
       "TFIDF      0.89178  0.937645   0.991350  0.889462\n",
       "SVD        0.57232  0.683681   0.969810  0.552678\n",
       "NMF        0.57762  0.693126   0.975253  0.554657\n",
       "Word2Vec   0.86554  0.921010   0.989895  0.861915"
      ]
     },
     "execution_count": 7,
     "metadata": {},
     "output_type": "execute_result"
    }
   ],
   "source": [
    "under_sampler_pipeline = make_pipeline(RandomUnderSampler(random_state=9),\n",
    "                              SGDClassifier(random_state=9, n_jobs=-1))\n",
    "\n",
    "under_sampler_cv = f.model_cv(under_sampler_pipeline, embeddings, y)\n",
    "f.df_model_cv(under_sampler_cv, embeddings_names, results_names)"
   ]
  },
  {
   "cell_type": "code",
   "execution_count": 9,
   "metadata": {},
   "outputs": [
    {
     "data": {
      "text/html": [
       "<div>\n",
       "<style scoped>\n",
       "    .dataframe tbody tr th:only-of-type {\n",
       "        vertical-align: middle;\n",
       "    }\n",
       "\n",
       "    .dataframe tbody tr th {\n",
       "        vertical-align: top;\n",
       "    }\n",
       "\n",
       "    .dataframe thead th {\n",
       "        text-align: right;\n",
       "    }\n",
       "</style>\n",
       "<table border=\"1\" class=\"dataframe\">\n",
       "  <thead>\n",
       "    <tr style=\"text-align: right;\">\n",
       "      <th></th>\n",
       "      <th>test_acc</th>\n",
       "      <th>f1</th>\n",
       "      <th>precision</th>\n",
       "      <th>recall</th>\n",
       "    </tr>\n",
       "  </thead>\n",
       "  <tbody>\n",
       "    <tr>\n",
       "      <th>BOW</th>\n",
       "      <td>0.90060</td>\n",
       "      <td>0.943699</td>\n",
       "      <td>0.979011</td>\n",
       "      <td>0.910866</td>\n",
       "    </tr>\n",
       "    <tr>\n",
       "      <th>TFIDF</th>\n",
       "      <td>0.90297</td>\n",
       "      <td>0.944651</td>\n",
       "      <td>0.987726</td>\n",
       "      <td>0.905181</td>\n",
       "    </tr>\n",
       "    <tr>\n",
       "      <th>SVD</th>\n",
       "      <td>0.56958</td>\n",
       "      <td>0.695626</td>\n",
       "      <td>0.983651</td>\n",
       "      <td>0.538478</td>\n",
       "    </tr>\n",
       "    <tr>\n",
       "      <th>NMF</th>\n",
       "      <td>0.56991</td>\n",
       "      <td>0.693327</td>\n",
       "      <td>0.981305</td>\n",
       "      <td>0.540774</td>\n",
       "    </tr>\n",
       "    <tr>\n",
       "      <th>Word2Vec</th>\n",
       "      <td>0.89558</td>\n",
       "      <td>0.939940</td>\n",
       "      <td>0.987893</td>\n",
       "      <td>0.896906</td>\n",
       "    </tr>\n",
       "  </tbody>\n",
       "</table>\n",
       "</div>"
      ],
      "text/plain": [
       "          test_acc        f1  precision    recall\n",
       "BOW        0.90060  0.943699   0.979011  0.910866\n",
       "TFIDF      0.90297  0.944651   0.987726  0.905181\n",
       "SVD        0.56958  0.695626   0.983651  0.538478\n",
       "NMF        0.56991  0.693327   0.981305  0.540774\n",
       "Word2Vec   0.89558  0.939940   0.987893  0.896906"
      ]
     },
     "execution_count": 9,
     "metadata": {},
     "output_type": "execute_result"
    }
   ],
   "source": [
    "smote_pipeline = make_pipeline(SMOTE(random_state=9, n_jobs=-1),\n",
    "                              SGDClassifier(random_state=9, n_jobs=-1))\n",
    "\n",
    "smote_cv = f.model_cv(smote_pipeline, embeddings_positive, y)\n",
    "f.df_model_cv(smote_cv, embeddings_names, results_names)"
   ]
  },
  {
   "cell_type": "code",
   "execution_count": 17,
   "metadata": {},
   "outputs": [
    {
     "data": {
      "text/html": [
       "<div>\n",
       "<style scoped>\n",
       "    .dataframe tbody tr th:only-of-type {\n",
       "        vertical-align: middle;\n",
       "    }\n",
       "\n",
       "    .dataframe tbody tr th {\n",
       "        vertical-align: top;\n",
       "    }\n",
       "\n",
       "    .dataframe thead th {\n",
       "        text-align: right;\n",
       "    }\n",
       "</style>\n",
       "<table border=\"1\" class=\"dataframe\">\n",
       "  <thead>\n",
       "    <tr style=\"text-align: right;\">\n",
       "      <th></th>\n",
       "      <th>test_acc</th>\n",
       "      <th>f1</th>\n",
       "      <th>precision</th>\n",
       "      <th>recall</th>\n",
       "    </tr>\n",
       "  </thead>\n",
       "  <tbody>\n",
       "    <tr>\n",
       "      <th>BOW</th>\n",
       "      <td>0.90861</td>\n",
       "      <td>0.948303</td>\n",
       "      <td>0.982630</td>\n",
       "      <td>0.916299</td>\n",
       "    </tr>\n",
       "    <tr>\n",
       "      <th>TFIDF</th>\n",
       "      <td>0.91473</td>\n",
       "      <td>0.951791</td>\n",
       "      <td>0.985668</td>\n",
       "      <td>0.920168</td>\n",
       "    </tr>\n",
       "    <tr>\n",
       "      <th>SVD</th>\n",
       "      <td>0.68893</td>\n",
       "      <td>0.800413</td>\n",
       "      <td>0.967076</td>\n",
       "      <td>0.683428</td>\n",
       "    </tr>\n",
       "    <tr>\n",
       "      <th>NMF</th>\n",
       "      <td>0.70575</td>\n",
       "      <td>0.814305</td>\n",
       "      <td>0.962443</td>\n",
       "      <td>0.705969</td>\n",
       "    </tr>\n",
       "    <tr>\n",
       "      <th>Word2Vec</th>\n",
       "      <td>0.90032</td>\n",
       "      <td>0.942873</td>\n",
       "      <td>0.986997</td>\n",
       "      <td>0.903017</td>\n",
       "    </tr>\n",
       "  </tbody>\n",
       "</table>\n",
       "</div>"
      ],
      "text/plain": [
       "          test_acc        f1  precision    recall\n",
       "BOW        0.90861  0.948303   0.982630  0.916299\n",
       "TFIDF      0.91473  0.951791   0.985668  0.920168\n",
       "SVD        0.68893  0.800413   0.967076  0.683428\n",
       "NMF        0.70575  0.814305   0.962443  0.705969\n",
       "Word2Vec   0.90032  0.942873   0.986997  0.903017"
      ]
     },
     "execution_count": 17,
     "metadata": {},
     "output_type": "execute_result"
    }
   ],
   "source": [
    "mixed_pipeline = make_pipeline(SMOTE(random_state=9, sampling_strategy=0.33, n_jobs=-1),\n",
    "                 RandomUnderSampler(random_state=9, sampling_strategy=0.66),\n",
    "                 SGDClassifier(random_state=9, n_jobs=-1))\n",
    "\n",
    "mixed_cv = f.model_cv(mixed_pipeline, embeddings_positive, y)\n",
    "f.df_model_cv(mixed_cv, embeddings_names, results_names)"
   ]
  },
  {
   "cell_type": "code",
   "execution_count": null,
   "metadata": {},
   "outputs": [],
   "source": []
  }
 ],
 "metadata": {
  "kernelspec": {
   "display_name": "fastai-nlp",
   "language": "python",
   "name": "fastai-nlp"
  },
  "language_info": {
   "codemirror_mode": {
    "name": "ipython",
    "version": 3
   },
   "file_extension": ".py",
   "mimetype": "text/x-python",
   "name": "python",
   "nbconvert_exporter": "python",
   "pygments_lexer": "ipython3",
   "version": "3.7.6"
  }
 },
 "nbformat": 4,
 "nbformat_minor": 2
}
