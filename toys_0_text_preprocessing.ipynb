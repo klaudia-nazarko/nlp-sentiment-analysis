{
 "cells": [
  {
   "cell_type": "markdown",
   "metadata": {},
   "source": [
    "# Creating Word Vectors"
   ]
  },
  {
   "cell_type": "code",
   "execution_count": 42,
   "metadata": {},
   "outputs": [],
   "source": [
    "import numpy as np\n",
    "import pandas as pd\n",
    "import pickle\n",
    "\n",
    "from sklearn.feature_extraction.text import TfidfVectorizer\n",
    "from gensim.models import Word2Vec\n",
    "\n",
    "import functions as f"
   ]
  },
  {
   "cell_type": "markdown",
   "metadata": {},
   "source": [
    "## Text preprocessing\n",
    "\n",
    "The goal of this part is to transform product reviews into lists of tokens. Since the dataset consists of over 1.4M reviews, for the purpose of this project it will be limited to 100k (to fasten computations).\n",
    "\n",
    "Text preprocessing includes:\n",
    "- converting text to lowercase\n",
    "- removing punctuation\n",
    "- tokenization\n",
    "- removing stop words\n",
    "- lemmatization"
   ]
  },
  {
   "cell_type": "code",
   "execution_count": 2,
   "metadata": {},
   "outputs": [
    {
     "data": {
      "text/html": [
       "<div>\n",
       "<style scoped>\n",
       "    .dataframe tbody tr th:only-of-type {\n",
       "        vertical-align: middle;\n",
       "    }\n",
       "\n",
       "    .dataframe tbody tr th {\n",
       "        vertical-align: top;\n",
       "    }\n",
       "\n",
       "    .dataframe thead th {\n",
       "        text-align: right;\n",
       "    }\n",
       "</style>\n",
       "<table border=\"1\" class=\"dataframe\">\n",
       "  <thead>\n",
       "    <tr style=\"text-align: right;\">\n",
       "      <th></th>\n",
       "      <th>review</th>\n",
       "      <th>sentiment</th>\n",
       "    </tr>\n",
       "  </thead>\n",
       "  <tbody>\n",
       "    <tr>\n",
       "      <th>868012</th>\n",
       "      <td>Instead of the standard message board, this on...</td>\n",
       "      <td>1</td>\n",
       "    </tr>\n",
       "    <tr>\n",
       "      <th>674370</th>\n",
       "      <td>my 2 yo loves washing dishes and putting them ...</td>\n",
       "      <td>1</td>\n",
       "    </tr>\n",
       "    <tr>\n",
       "      <th>900999</th>\n",
       "      <td>This was ordered for my twin grandsons 3rd bir...</td>\n",
       "      <td>1</td>\n",
       "    </tr>\n",
       "    <tr>\n",
       "      <th>543468</th>\n",
       "      <td>Great! It provides hours of outdoors fun!</td>\n",
       "      <td>1</td>\n",
       "    </tr>\n",
       "    <tr>\n",
       "      <th>762935</th>\n",
       "      <td>Adorable Kyubey plush! It's bigger than I expe...</td>\n",
       "      <td>1</td>\n",
       "    </tr>\n",
       "  </tbody>\n",
       "</table>\n",
       "</div>"
      ],
      "text/plain": [
       "                                                   review  sentiment\n",
       "868012  Instead of the standard message board, this on...          1\n",
       "674370  my 2 yo loves washing dishes and putting them ...          1\n",
       "900999  This was ordered for my twin grandsons 3rd bir...          1\n",
       "543468          Great! It provides hours of outdoors fun!          1\n",
       "762935  Adorable Kyubey plush! It's bigger than I expe...          1"
      ]
     },
     "execution_count": 2,
     "metadata": {},
     "output_type": "execute_result"
    }
   ],
   "source": [
    "df = pd.read_csv('data/reviews_toys_games.csv')\n",
    "df.sample(5)"
   ]
  },
  {
   "cell_type": "code",
   "execution_count": 3,
   "metadata": {},
   "outputs": [
    {
     "name": "stdout",
     "output_type": "stream",
     "text": [
      "Share of positive reviews in the whole dataset: 0.9147\n"
     ]
    }
   ],
   "source": [
    "print('Share of positive reviews in the whole dataset: %0.4f' % (sum(df['sentiment'])/len(df)))"
   ]
  },
  {
   "cell_type": "code",
   "execution_count": 4,
   "metadata": {},
   "outputs": [
    {
     "name": "stdout",
     "output_type": "stream",
     "text": [
      "Share of positive reviews in the sample: 0.9148\n"
     ]
    }
   ],
   "source": [
    "df_sample = df.sample(100000, random_state=11).reset_index(drop=True)\n",
    "print('Share of positive reviews in the sample:', sum(df_sample['sentiment'])/len(df_sample))"
   ]
  },
  {
   "cell_type": "code",
   "execution_count": 5,
   "metadata": {},
   "outputs": [],
   "source": [
    "reviews = df_sample['review'].to_list()\n",
    "sentiment = df_sample['sentiment'].to_list()"
   ]
  },
  {
   "cell_type": "code",
   "execution_count": 6,
   "metadata": {},
   "outputs": [],
   "source": [
    "reviews_tokens = f.normalize_text(reviews)"
   ]
  },
  {
   "cell_type": "code",
   "execution_count": 7,
   "metadata": {},
   "outputs": [],
   "source": [
    "f.save_pickle(reviews_tokens, 'data/reviews_tokens_100k.pickle')\n",
    "f.save_pickle(sentiment, 'data/sentiment_100k.pickle')\n",
    "\n",
    "df_sample.to_csv('data/reviews_toys_games_100k.csv', index=False)"
   ]
  },
  {
   "cell_type": "code",
   "execution_count": 8,
   "metadata": {},
   "outputs": [],
   "source": [
    "del df, df_sample, reviews, reviews_tokens, sentiment"
   ]
  },
  {
   "cell_type": "markdown",
   "metadata": {},
   "source": [
    "## Creating word vectors\n",
    "\n",
    "There are several approaches aimed on transforming text into word vectors. In this script reviews will be presented as:\n",
    "- bag of words vectors\n",
    "- TFIDF word vectors\n",
    "- SVD and NMF embeddings\n",
    "- Word2Vec embeddings"
   ]
  },
  {
   "cell_type": "code",
   "execution_count": 9,
   "metadata": {},
   "outputs": [],
   "source": [
    "reviews_tokens = f.load_pickle('data/reviews_tokens_100k.pickle')"
   ]
  },
  {
   "cell_type": "code",
   "execution_count": 10,
   "metadata": {},
   "outputs": [],
   "source": [
    "corpus_counter, n_tokens = f.distinct_corpus_words(reviews_tokens)\n",
    "word2ind, ind2word = f.build_dictionary(corpus_counter)\n",
    "reviews_ind = [f.text_token2ind(review, word2ind) for review in reviews_tokens]"
   ]
  },
  {
   "cell_type": "code",
   "execution_count": 11,
   "metadata": {},
   "outputs": [
    {
     "name": "stdout",
     "output_type": "stream",
     "text": [
      "Words in the dictionary:  45629\n",
      "Most common words:\n",
      " [('love', 42733), ('great', 26982), ('play', 20313), ('toy', 16773), ('old', 16037), ('like', 15440), ('buy', 14097), ('kid', 13786), ('game', 13429), ('fun', 13182)]\n"
     ]
    }
   ],
   "source": [
    "print('Words in the dictionary: ', n_tokens)\n",
    "print('Most common words:\\n', corpus_counter[:10])"
   ]
  },
  {
   "cell_type": "code",
   "execution_count": 12,
   "metadata": {},
   "outputs": [],
   "source": [
    "f.save_pickle(reviews_ind, 'data/reviews_ind_100k.pickle')"
   ]
  },
  {
   "cell_type": "markdown",
   "metadata": {},
   "source": [
    "### Bag of Words\n",
    "\n",
    "The bag of words model is the simplest representation of text used in NLP. It enables extracting features from text to use in machine learning algorithms. It consists of a vocabulary of known words and a count of the occurrence of words withing the document.\n",
    "\n",
    "In the bag of words model, each document is represented as a word-count vector and the size of this vector is equal to the number of elements in your vocabulary. Since the documents contain only limited number of words, vectors mostly consist of zeros, thus the matrix can be considered as sparse. To avoid memory errors, the output of this BOW implementation is a matrix represented in scipy sparse format."
   ]
  },
  {
   "cell_type": "code",
   "execution_count": 13,
   "metadata": {},
   "outputs": [
    {
     "data": {
      "text/plain": [
       "(100000, 6000)"
      ]
     },
     "execution_count": 13,
     "metadata": {},
     "output_type": "execute_result"
    }
   ],
   "source": [
    "M_bow = f.build_bow(reviews_ind, n_tokens, 6000)\n",
    "M_bow.shape"
   ]
  },
  {
   "cell_type": "code",
   "execution_count": 14,
   "metadata": {},
   "outputs": [
    {
     "name": "stdout",
     "output_type": "stream",
     "text": [
      "text of test review:  ['great', 'figure', 'right', 'price', 'love', 'amaze', 'figure', 'see']\n",
      "occurrences of words: \n",
      "figure: 2 \n",
      "love: 1\n"
     ]
    }
   ],
   "source": [
    "ind_test = 111\n",
    "print('text of test review: ', reviews_tokens[ind_test])\n",
    "print('occurrences of words:',\n",
    "      '\\nfigure:', M_bow[ind_test, word2ind['figure']],\n",
    "      '\\nlove:', M_bow[ind_test, word2ind['love']])"
   ]
  },
  {
   "cell_type": "markdown",
   "metadata": {},
   "source": [
    "#### Convert string to BOW vector"
   ]
  },
  {
   "cell_type": "code",
   "execution_count": 15,
   "metadata": {},
   "outputs": [],
   "source": [
    "review_test = 'This game is amazing ^^, my son plays with it all the time!'"
   ]
  },
  {
   "cell_type": "code",
   "execution_count": 16,
   "metadata": {},
   "outputs": [
    {
     "name": "stdout",
     "output_type": "stream",
     "text": [
      "['game', 'amaze', 'son', 'play', 'time']\n",
      "[8, 171, 20, 2, 18]\n"
     ]
    }
   ],
   "source": [
    "review_tokens_test = f.normalize_single_text(review_test)\n",
    "print(review_tokens_test)\n",
    "\n",
    "review_ind_test = f.text_token2ind(review_tokens_test, word2ind)\n",
    "print(review_ind_test)"
   ]
  },
  {
   "cell_type": "code",
   "execution_count": 17,
   "metadata": {},
   "outputs": [
    {
     "data": {
      "text/plain": [
       "array([0., 0., 1., ..., 0., 0., 0.])"
      ]
     },
     "execution_count": 17,
     "metadata": {},
     "output_type": "execute_result"
    }
   ],
   "source": [
    "f.build_single_bow(review_ind_test, n_tokens, 6000)"
   ]
  },
  {
   "cell_type": "code",
   "execution_count": 18,
   "metadata": {},
   "outputs": [],
   "source": [
    "f.save_pickle(M_bow, 'data/M_bow_100k.pickle')\n",
    "del M_bow"
   ]
  },
  {
   "cell_type": "markdown",
   "metadata": {},
   "source": [
    "## TF-IDF (Term Frequency – Inverse Document Frequency)\n",
    "\n",
    "TF-IDF is a statistical measure used to evaluate how important a word is to a document in a collection or corpus. The importance increases proportionally to the number of times a word appears in the document but is offset by the frequency of the word in the corpus. It is a weight often used in information retrieval and text mining.\n",
    "\n",
    "In order to optimize calculations, scikit-learn implementation was used."
   ]
  },
  {
   "cell_type": "code",
   "execution_count": 19,
   "metadata": {},
   "outputs": [
    {
     "data": {
      "text/plain": [
       "(100000, 6000)"
      ]
     },
     "execution_count": 19,
     "metadata": {},
     "output_type": "execute_result"
    }
   ],
   "source": [
    "vectorizer = TfidfVectorizer(max_features=6000)\n",
    "M_tfidf = vectorizer.fit_transform([' '.join(r) for r in reviews_tokens])\n",
    "M_tfidf.shape"
   ]
  },
  {
   "cell_type": "code",
   "execution_count": 20,
   "metadata": {},
   "outputs": [
    {
     "name": "stdout",
     "output_type": "stream",
     "text": [
      "text of test review:  ['great', 'figure', 'right', 'price', 'love', 'amaze', 'figure', 'see']\n",
      "TFIDF of words: \n",
      "figure: 0.6571834159729407 \n",
      "love: 0.15079671030826042\n"
     ]
    }
   ],
   "source": [
    "ind_test = 111\n",
    "print('text of test review: ', reviews_tokens[ind_test])\n",
    "print('TFIDF of words:',\n",
    "      '\\nfigure:', M_tfidf[ind_test, vectorizer.vocabulary_['figure']],\n",
    "      '\\nlove:', M_tfidf[ind_test, vectorizer.vocabulary_['love']])"
   ]
  },
  {
   "cell_type": "markdown",
   "metadata": {},
   "source": [
    "#### Convert test string into TFIDF vector"
   ]
  },
  {
   "cell_type": "code",
   "execution_count": 21,
   "metadata": {},
   "outputs": [
    {
     "data": {
      "text/plain": [
       "matrix([[0., 0., 0., ..., 0., 0., 0.]])"
      ]
     },
     "execution_count": 21,
     "metadata": {},
     "output_type": "execute_result"
    }
   ],
   "source": [
    "vectorizer.transform([' '.join(review_tokens_test)]).todense()"
   ]
  },
  {
   "cell_type": "code",
   "execution_count": 22,
   "metadata": {},
   "outputs": [],
   "source": [
    "f.save_pickle(M_tfidf, 'data/M_tfidf_100k.pickle')\n",
    "f.save_pickle(vectorizer, 'data/tfidf_vectorizer_100k.pickle')\n",
    "\n",
    "del M_tfidf"
   ]
  },
  {
   "cell_type": "markdown",
   "metadata": {},
   "source": [
    "## Co-Occurrence Matrix\n",
    "\n",
    "Co-occurrence Matrix with SVD or NMF is one of the frequency-based approaches used to build word embeddings. The idea behind it is that similar words tend to occur together and will have a similar context. It is computed by counting how often two or more words occur together in a given context window.\n",
    "\n",
    "Co-occurrence matrix is not the word vector representation that is generally used. Instead, it is decomposed using techniques like SVD, NMF, PCA into factors and combination of these factors forms the word vector representation. Those decomposition methods are used to reduce a high-dimensional dataset into fewer dimensions while retaining important information."
   ]
  },
  {
   "cell_type": "code",
   "execution_count": 23,
   "metadata": {},
   "outputs": [],
   "source": [
    "M_co_occurrence = f.build_co_occurrence_matrix(reviews_ind, n_tokens, window_size=3)"
   ]
  },
  {
   "cell_type": "markdown",
   "metadata": {},
   "source": [
    "### Co-Occurrence Matrix with SVD (Singular Value Decomposition)"
   ]
  },
  {
   "cell_type": "code",
   "execution_count": 24,
   "metadata": {},
   "outputs": [],
   "source": [
    "svd_reduced_co_occurrence = f.matrix_reduce(M_co_occurrence, method='svd', n_dim=5)"
   ]
  },
  {
   "cell_type": "code",
   "execution_count": 25,
   "metadata": {},
   "outputs": [
    {
     "data": {
      "text/plain": [
       "(100000, 5)"
      ]
     },
     "execution_count": 25,
     "metadata": {},
     "output_type": "execute_result"
    }
   ],
   "source": [
    "M_svd = np.stack([f.avg_cooc_embeddings(ind, svd_reduced_co_occurrence, word2ind) for ind in reviews_ind])\n",
    "M_svd.shape"
   ]
  },
  {
   "cell_type": "code",
   "execution_count": 26,
   "metadata": {},
   "outputs": [
    {
     "name": "stdout",
     "output_type": "stream",
     "text": [
      "[[1535.54419534  -88.85410665 -109.92193234  200.17761876  -67.75181056]\n",
      " [2649.78632729 -168.64916748 -184.34119014  522.55081926 -112.81073749]\n",
      " [5760.72399768  602.74718843 -429.02400627  807.77596857   74.03598068]\n",
      " ...\n",
      " [3241.88552377 -107.11166419 -308.16530576  931.15941756 -176.91970992]\n",
      " [1393.89739413 -832.52584809   16.83450896  -54.8309185  -696.31413259]\n",
      " [1413.60038863 -338.0630371    14.41326836 -189.74357591  238.11835686]]\n"
     ]
    }
   ],
   "source": [
    "print(M_svd)"
   ]
  },
  {
   "cell_type": "markdown",
   "metadata": {},
   "source": [
    "#### SVD word embeddings in vector space\n",
    "\n",
    "Although it seems that embeddings reflect some relations between words, eg \"son\" and \"daughter\" are close to each other, other word vectors don't follow the expected behaviour, eg \"game\" and \"toy\" seem to have nothing in common, \"good\" and \"bad\" are far from each other."
   ]
  },
  {
   "cell_type": "code",
   "execution_count": 27,
   "metadata": {},
   "outputs": [],
   "source": [
    "viz_words = ['son', 'daughter', 'good', 'bad', 'great', 'game', 'toy', 'play']"
   ]
  },
  {
   "cell_type": "code",
   "execution_count": 28,
   "metadata": {},
   "outputs": [
    {
     "data": {
      "image/png": "[encoded data removed]",
      "text/plain": [
       "<Figure size 864x432 with 1 Axes>"
      ]
     },
     "metadata": {
      "needs_background": "light"
     },
     "output_type": "display_data"
    }
   ],
   "source": [
    "M_svd_2d = f.matrix_reduce(M_svd, method='svd', n_dim=2)\n",
    "f.plot_vectors_2d(M_svd_2d, viz_words, word2ind)"
   ]
  },
  {
   "cell_type": "markdown",
   "metadata": {},
   "source": [
    "#### Convert test string into SVD vector"
   ]
  },
  {
   "cell_type": "code",
   "execution_count": 29,
   "metadata": {},
   "outputs": [
    {
     "data": {
      "text/plain": [
       "array([3700.67999817, -820.60835517,   62.69732848, -657.55311825,\n",
       "       1061.47692555])"
      ]
     },
     "execution_count": 29,
     "metadata": {},
     "output_type": "execute_result"
    }
   ],
   "source": [
    "f.avg_cooc_embeddings(review_ind_test, svd_reduced_co_occurrence, word2ind)"
   ]
  },
  {
   "cell_type": "code",
   "execution_count": 30,
   "metadata": {},
   "outputs": [],
   "source": [
    "f.save_pickle(M_svd, 'data/M_svd_100k.pickle')\n",
    "del M_svd"
   ]
  },
  {
   "cell_type": "markdown",
   "metadata": {},
   "source": [
    "### Co-Occurrence Matrix with NMF (Non-Negative Matrix Factorization)"
   ]
  },
  {
   "cell_type": "code",
   "execution_count": 31,
   "metadata": {},
   "outputs": [
    {
     "name": "stderr",
     "output_type": "stream",
     "text": [
      "C:\\Users\\klaud\\Anaconda3\\envs\\fastai-nlp\\lib\\site-packages\\sklearn\\decomposition\\_nmf.py:1077: ConvergenceWarning: Maximum number of iterations 200 reached. Increase it to improve convergence.\n",
      "  \" improve convergence.\" % max_iter, ConvergenceWarning)\n"
     ]
    },
    {
     "data": {
      "text/plain": [
       "(100000, 5)"
      ]
     },
     "execution_count": 31,
     "metadata": {},
     "output_type": "execute_result"
    }
   ],
   "source": [
    "nmf_reduced_co_occurrence = f.matrix_reduce(M_co_occurrence, method='nmf', n_dim=5)\n",
    "M_nmf = np.stack([f.avg_cooc_embeddings(ind, nmf_reduced_co_occurrence, word2ind) for ind in reviews_ind])\n",
    "M_nmf.shape"
   ]
  },
  {
   "cell_type": "code",
   "execution_count": 32,
   "metadata": {},
   "outputs": [
    {
     "name": "stdout",
     "output_type": "stream",
     "text": [
      "[[ 4.73204311  3.10003703  4.33827005  4.17181511  7.71958402]\n",
      " [ 8.04826308  5.81789377  7.47526516  5.45424254 14.58321622]\n",
      " [ 8.20413043 15.00659014 19.79551483 17.25447144 30.89723242]\n",
      " ...\n",
      " [10.16579462  8.22098302 10.5652474   1.76599422 19.62267803]\n",
      " [14.19922071  0.56729811  0.62328625  3.7909095   1.45206812]\n",
      " [ 2.90358797  0.75351253  1.38886852 10.85750284  7.32522433]]\n"
     ]
    }
   ],
   "source": [
    "print(M_nmf)"
   ]
  },
  {
   "cell_type": "markdown",
   "metadata": {},
   "source": [
    "#### NMF word embeddings in vector space\n",
    "\n",
    "Based on the selected list of words, NMF word embeddings seem to perform similarly to SVD word vectors."
   ]
  },
  {
   "cell_type": "code",
   "execution_count": 33,
   "metadata": {},
   "outputs": [
    {
     "data": {
      "image/png": "[encoded data removed]",
      "text/plain": [
       "<Figure size 864x432 with 1 Axes>"
      ]
     },
     "metadata": {
      "needs_background": "light"
     },
     "output_type": "display_data"
    }
   ],
   "source": [
    "M_nmf_2d = f.matrix_reduce(M_nmf, method='svd', n_dim=2)\n",
    "f.plot_vectors_2d(M_nmf_2d, viz_words, word2ind)"
   ]
  },
  {
   "cell_type": "markdown",
   "metadata": {},
   "source": [
    "#### Convert test string into NMF vector"
   ]
  },
  {
   "cell_type": "code",
   "execution_count": 34,
   "metadata": {},
   "outputs": [
    {
     "data": {
      "text/plain": [
       "array([ 3.39747279,  1.78241199,  3.35470569, 32.29559881, 21.61569199])"
      ]
     },
     "execution_count": 34,
     "metadata": {},
     "output_type": "execute_result"
    }
   ],
   "source": [
    "f.avg_cooc_embeddings(review_ind_test, nmf_reduced_co_occurrence, word2ind)"
   ]
  },
  {
   "cell_type": "code",
   "execution_count": 35,
   "metadata": {},
   "outputs": [],
   "source": [
    "f.save_pickle(M_nmf, 'data/M_nmf_100k.pickle')\n",
    "del M_nmf"
   ]
  },
  {
   "cell_type": "markdown",
   "metadata": {},
   "source": [
    "## Word2Vec\n",
    "\n",
    "Word2Vec is a two-layer neural network used to learn word associations from a large corpus of text. Its output are word embeddings that represent words from text corpus. Word2Vec model represents words in dense low dimensional space in a way that similar words get similar word vectors, so they are mapped to nearby points."
   ]
  },
  {
   "cell_type": "code",
   "execution_count": 36,
   "metadata": {},
   "outputs": [],
   "source": [
    "w2v_model = Word2Vec(min_count=5,\n",
    "                     window=3,\n",
    "                     size=100,\n",
    "                     workers=3)"
   ]
  },
  {
   "cell_type": "code",
   "execution_count": 37,
   "metadata": {},
   "outputs": [
    {
     "data": {
      "text/plain": [
       "(42810830, 50905110)"
      ]
     },
     "execution_count": 37,
     "metadata": {},
     "output_type": "execute_result"
    }
   ],
   "source": [
    "w2v_model.build_vocab(reviews_tokens)\n",
    "w2v_model.train(reviews_tokens, total_examples=w2v_model.corpus_count, epochs=30)"
   ]
  },
  {
   "cell_type": "code",
   "execution_count": 38,
   "metadata": {},
   "outputs": [
    {
     "data": {
      "text/plain": [
       "(100000, 100)"
      ]
     },
     "execution_count": 38,
     "metadata": {},
     "output_type": "execute_result"
    }
   ],
   "source": [
    "M_word2vec = np.stack([f.avg_w2v_embeddings(review, w2v_model) for review in reviews_tokens])\n",
    "M_word2vec.shape"
   ]
  },
  {
   "cell_type": "markdown",
   "metadata": {},
   "source": [
    "#### Word2Vec word embeddings in vector space\n",
    "\n",
    "Word2Vec word embeddings reflect the true relations between words, eg: \"good\" and \"great\" are the synonymes, close to the \"bad\" word (it's the adjective describing the same feature) but there is distance between them (since \"bad\" is the opposite word). \"Game\", \"toy\" and \"play\" are located in close neighbourhood in vector space, the same as \"son\" and \"daughter\"."
   ]
  },
  {
   "cell_type": "code",
   "execution_count": 39,
   "metadata": {},
   "outputs": [
    {
     "data": {
      "image/png": "[encoded data removed]",
      "text/plain": [
       "<Figure size 864x432 with 1 Axes>"
      ]
     },
     "metadata": {
      "needs_background": "light"
     },
     "output_type": "display_data"
    }
   ],
   "source": [
    "M_w2v_words = w2v_model.wv[viz_words]\n",
    "M_w2v_words_2d = f.matrix_reduce(M_w2v_words, 'svd', n_dim=2)\n",
    "w2v_word2ind = {e:i for i, e in enumerate(viz_words)}\n",
    "f.plot_vectors_2d(M_w2v_words_2d, viz_words, w2v_word2ind)"
   ]
  },
  {
   "cell_type": "markdown",
   "metadata": {},
   "source": [
    "#### Convert test string into Word2Vec vector\n"
   ]
  },
  {
   "cell_type": "code",
   "execution_count": 40,
   "metadata": {},
   "outputs": [
    {
     "data": {
      "text/plain": [
       "array([-0.31646168, -0.56161016,  1.0844812 , -0.18825021,  1.3932753 ,\n",
       "        0.14343838,  1.0295175 ,  0.9405424 , -0.41131052, -0.04139958,\n",
       "       -0.13122456, -0.2395148 ,  0.12359241, -0.17586541,  0.2841231 ,\n",
       "       -0.662642  , -0.4899149 , -0.82126445, -0.4849453 , -0.01437436,\n",
       "        0.5155698 ,  0.00157979, -0.12170897,  0.12294563, -0.56744236,\n",
       "        0.09137762,  0.13993731, -0.50038534, -0.6875189 ,  0.20462283,\n",
       "       -0.2606817 , -0.20736933, -0.14295428,  0.79791254, -0.55176574,\n",
       "        0.64750224, -0.573746  ,  0.03562661, -0.3149734 , -0.36117828,\n",
       "       -0.5166572 ,  1.468988  ,  0.35668358, -0.93026483,  0.07668543,\n",
       "        0.16054472, -0.542458  , -0.80053425,  0.49514374, -0.70084465,\n",
       "       -0.85109246,  0.36010742,  0.28695327, -0.6446176 , -0.26563647,\n",
       "       -0.32876414,  0.233358  ,  0.03792597, -1.2165335 , -0.46383953,\n",
       "       -0.761924  , -1.0288746 , -0.37649328, -0.4844675 ,  1.208699  ,\n",
       "       -0.18409283,  0.23793969,  0.4282012 ,  0.42860514, -0.00332098,\n",
       "       -0.11296084, -0.24559149,  0.19468245,  0.4535489 , -0.7435466 ,\n",
       "        0.44443297,  0.6071012 , -0.34038827,  1.0002236 , -0.276553  ,\n",
       "        0.90246135,  0.05409582,  0.74569976, -0.33316666, -0.3515421 ,\n",
       "        0.6093632 ,  0.17268491, -1.0197427 , -0.12005872,  0.8795897 ,\n",
       "       -0.2181303 , -0.6902615 ,  0.7760292 , -0.04611551, -0.04813138,\n",
       "        0.09687453, -0.25432467,  0.6559578 , -0.50627196, -0.353421  ],\n",
       "      dtype=float32)"
      ]
     },
     "execution_count": 40,
     "metadata": {},
     "output_type": "execute_result"
    }
   ],
   "source": [
    "f.avg_w2v_embeddings(review_tokens_test, w2v_model)"
   ]
  },
  {
   "cell_type": "code",
   "execution_count": 41,
   "metadata": {},
   "outputs": [],
   "source": [
    "f.save_pickle(M_word2vec, 'data/M_word2vec_100k.pickle')\n",
    "del M_word2vec"
   ]
  }
 ],
 "metadata": {
  "kernelspec": {
   "display_name": "fastai-nlp",
   "language": "python",
   "name": "fastai-nlp"
  },
  "language_info": {
   "codemirror_mode": {
    "name": "ipython",
    "version": 3
   },
   "file_extension": ".py",
   "mimetype": "text/x-python",
   "name": "python",
   "nbconvert_exporter": "python",
   "pygments_lexer": "ipython3",
   "version": "3.7.6"
  }
 },
 "nbformat": 4,
 "nbformat_minor": 2
}
